{
 "cells": [
  {
   "cell_type": "markdown",
   "id": "7c145c39",
   "metadata": {},
   "source": [
    "# Importing libraries"
   ]
  },
  {
   "cell_type": "code",
   "execution_count": 1,
   "id": "8129b38a",
   "metadata": {},
   "outputs": [],
   "source": [
    "import pandas as pd\n",
    "import numpy as np"
   ]
  },
  {
   "cell_type": "markdown",
   "id": "0da18f42",
   "metadata": {},
   "source": [
    "# Reading the dataset"
   ]
  },
  {
   "cell_type": "code",
   "execution_count": 2,
   "id": "94933ffe",
   "metadata": {},
   "outputs": [],
   "source": [
    "data = pd.read_csv(\"train.csv\")"
   ]
  },
  {
   "cell_type": "markdown",
   "id": "835855b4",
   "metadata": {},
   "source": [
    "# Exploring the dataset"
   ]
  },
  {
   "cell_type": "code",
   "execution_count": 4,
   "id": "8977b0ca",
   "metadata": {},
   "outputs": [
    {
     "data": {
      "text/html": [
       "<div>\n",
       "<style scoped>\n",
       "    .dataframe tbody tr th:only-of-type {\n",
       "        vertical-align: middle;\n",
       "    }\n",
       "\n",
       "    .dataframe tbody tr th {\n",
       "        vertical-align: top;\n",
       "    }\n",
       "\n",
       "    .dataframe thead th {\n",
       "        text-align: right;\n",
       "    }\n",
       "</style>\n",
       "<table border=\"1\" class=\"dataframe\">\n",
       "  <thead>\n",
       "    <tr style=\"text-align: right;\">\n",
       "      <th></th>\n",
       "      <th>PassengerId</th>\n",
       "      <th>Survived</th>\n",
       "      <th>Pclass</th>\n",
       "      <th>Name</th>\n",
       "      <th>Sex</th>\n",
       "      <th>Age</th>\n",
       "      <th>SibSp</th>\n",
       "      <th>Parch</th>\n",
       "      <th>Ticket</th>\n",
       "      <th>Fare</th>\n",
       "      <th>Cabin</th>\n",
       "      <th>Embarked</th>\n",
       "    </tr>\n",
       "  </thead>\n",
       "  <tbody>\n",
       "    <tr>\n",
       "      <th>0</th>\n",
       "      <td>1</td>\n",
       "      <td>0</td>\n",
       "      <td>3</td>\n",
       "      <td>Braund, Mr. Owen Harris</td>\n",
       "      <td>male</td>\n",
       "      <td>22.0</td>\n",
       "      <td>1</td>\n",
       "      <td>0</td>\n",
       "      <td>A/5 21171</td>\n",
       "      <td>7.2500</td>\n",
       "      <td>NaN</td>\n",
       "      <td>S</td>\n",
       "    </tr>\n",
       "    <tr>\n",
       "      <th>1</th>\n",
       "      <td>2</td>\n",
       "      <td>1</td>\n",
       "      <td>1</td>\n",
       "      <td>Cumings, Mrs. John Bradley (Florence Briggs Th...</td>\n",
       "      <td>female</td>\n",
       "      <td>38.0</td>\n",
       "      <td>1</td>\n",
       "      <td>0</td>\n",
       "      <td>PC 17599</td>\n",
       "      <td>71.2833</td>\n",
       "      <td>C85</td>\n",
       "      <td>C</td>\n",
       "    </tr>\n",
       "    <tr>\n",
       "      <th>2</th>\n",
       "      <td>3</td>\n",
       "      <td>1</td>\n",
       "      <td>3</td>\n",
       "      <td>Heikkinen, Miss. Laina</td>\n",
       "      <td>female</td>\n",
       "      <td>26.0</td>\n",
       "      <td>0</td>\n",
       "      <td>0</td>\n",
       "      <td>STON/O2. 3101282</td>\n",
       "      <td>7.9250</td>\n",
       "      <td>NaN</td>\n",
       "      <td>S</td>\n",
       "    </tr>\n",
       "    <tr>\n",
       "      <th>3</th>\n",
       "      <td>4</td>\n",
       "      <td>1</td>\n",
       "      <td>1</td>\n",
       "      <td>Futrelle, Mrs. Jacques Heath (Lily May Peel)</td>\n",
       "      <td>female</td>\n",
       "      <td>35.0</td>\n",
       "      <td>1</td>\n",
       "      <td>0</td>\n",
       "      <td>113803</td>\n",
       "      <td>53.1000</td>\n",
       "      <td>C123</td>\n",
       "      <td>S</td>\n",
       "    </tr>\n",
       "    <tr>\n",
       "      <th>4</th>\n",
       "      <td>5</td>\n",
       "      <td>0</td>\n",
       "      <td>3</td>\n",
       "      <td>Allen, Mr. William Henry</td>\n",
       "      <td>male</td>\n",
       "      <td>35.0</td>\n",
       "      <td>0</td>\n",
       "      <td>0</td>\n",
       "      <td>373450</td>\n",
       "      <td>8.0500</td>\n",
       "      <td>NaN</td>\n",
       "      <td>S</td>\n",
       "    </tr>\n",
       "  </tbody>\n",
       "</table>\n",
       "</div>"
      ],
      "text/plain": [
       "   PassengerId  Survived  Pclass  \\\n",
       "0            1         0       3   \n",
       "1            2         1       1   \n",
       "2            3         1       3   \n",
       "3            4         1       1   \n",
       "4            5         0       3   \n",
       "\n",
       "                                                Name     Sex   Age  SibSp  \\\n",
       "0                            Braund, Mr. Owen Harris    male  22.0      1   \n",
       "1  Cumings, Mrs. John Bradley (Florence Briggs Th...  female  38.0      1   \n",
       "2                             Heikkinen, Miss. Laina  female  26.0      0   \n",
       "3       Futrelle, Mrs. Jacques Heath (Lily May Peel)  female  35.0      1   \n",
       "4                           Allen, Mr. William Henry    male  35.0      0   \n",
       "\n",
       "   Parch            Ticket     Fare Cabin Embarked  \n",
       "0      0         A/5 21171   7.2500   NaN        S  \n",
       "1      0          PC 17599  71.2833   C85        C  \n",
       "2      0  STON/O2. 3101282   7.9250   NaN        S  \n",
       "3      0            113803  53.1000  C123        S  \n",
       "4      0            373450   8.0500   NaN        S  "
      ]
     },
     "execution_count": 4,
     "metadata": {},
     "output_type": "execute_result"
    }
   ],
   "source": [
    "data.head()"
   ]
  },
  {
   "cell_type": "code",
   "execution_count": 5,
   "id": "8c3abf37",
   "metadata": {},
   "outputs": [
    {
     "name": "stdout",
     "output_type": "stream",
     "text": [
      "<class 'pandas.core.frame.DataFrame'>\n",
      "RangeIndex: 891 entries, 0 to 890\n",
      "Data columns (total 12 columns):\n",
      " #   Column       Non-Null Count  Dtype  \n",
      "---  ------       --------------  -----  \n",
      " 0   PassengerId  891 non-null    int64  \n",
      " 1   Survived     891 non-null    int64  \n",
      " 2   Pclass       891 non-null    int64  \n",
      " 3   Name         891 non-null    object \n",
      " 4   Sex          891 non-null    object \n",
      " 5   Age          714 non-null    float64\n",
      " 6   SibSp        891 non-null    int64  \n",
      " 7   Parch        891 non-null    int64  \n",
      " 8   Ticket       891 non-null    object \n",
      " 9   Fare         891 non-null    float64\n",
      " 10  Cabin        204 non-null    object \n",
      " 11  Embarked     889 non-null    object \n",
      "dtypes: float64(2), int64(5), object(5)\n",
      "memory usage: 83.7+ KB\n"
     ]
    }
   ],
   "source": [
    "data.info()"
   ]
  },
  {
   "cell_type": "code",
   "execution_count": 6,
   "id": "603fec2f",
   "metadata": {},
   "outputs": [
    {
     "data": {
      "text/plain": [
       "Index(['PassengerId', 'Survived', 'Pclass', 'Name', 'Sex', 'Age', 'SibSp',\n",
       "       'Parch', 'Ticket', 'Fare', 'Cabin', 'Embarked'],\n",
       "      dtype='object')"
      ]
     },
     "execution_count": 6,
     "metadata": {},
     "output_type": "execute_result"
    }
   ],
   "source": [
    "data.columns"
   ]
  },
  {
   "cell_type": "code",
   "execution_count": 7,
   "id": "a024536d",
   "metadata": {},
   "outputs": [
    {
     "data": {
      "text/plain": [
       "(891, 12)"
      ]
     },
     "execution_count": 7,
     "metadata": {},
     "output_type": "execute_result"
    }
   ],
   "source": [
    "data.shape"
   ]
  },
  {
   "cell_type": "markdown",
   "id": "2d81fe04",
   "metadata": {},
   "source": [
    "### Checking all the unique values"
   ]
  },
  {
   "cell_type": "code",
   "execution_count": 31,
   "id": "489910ea",
   "metadata": {},
   "outputs": [
    {
     "name": "stdout",
     "output_type": "stream",
     "text": [
      "unique values in Survived =  [0 1]\n",
      "unique values in Pclass =  [3 1 2]\n",
      "unique values in Sex =  ['male' 'female']\n",
      "unique values in SibSp =  [1 0 3 4 2 5 8]\n",
      "unique values in Parch =  [0 1 2 5 3 4 6]\n",
      "unique values in Cabin =  [nan 'C85' 'C123' 'E46' 'G6' 'C103' 'D56' 'A6' 'C23 C25 C27' 'B78' 'D33'\n",
      " 'B30' 'C52' 'B28' 'C83' 'F33' 'F G73' 'E31' 'A5' 'D10 D12' 'D26' 'C110'\n",
      " 'B58 B60' 'E101' 'F E69' 'D47' 'B86' 'F2' 'C2' 'E33' 'B19' 'A7' 'C49'\n",
      " 'F4' 'A32' 'B4' 'B80' 'A31' 'D36' 'D15' 'C93' 'C78' 'D35' 'C87' 'B77'\n",
      " 'E67' 'B94' 'C125' 'C99' 'C118' 'D7' 'A19' 'B49' 'D' 'C22 C26' 'C106'\n",
      " 'C65' 'E36' 'C54' 'B57 B59 B63 B66' 'C7' 'E34' 'C32' 'B18' 'C124' 'C91'\n",
      " 'E40' 'T' 'C128' 'D37' 'B35' 'E50' 'C82' 'B96 B98' 'E10' 'E44' 'A34'\n",
      " 'C104' 'C111' 'C92' 'E38' 'D21' 'E12' 'E63' 'A14' 'B37' 'C30' 'D20' 'B79'\n",
      " 'E25' 'D46' 'B73' 'C95' 'B38' 'B39' 'B22' 'C86' 'C70' 'A16' 'C101' 'C68'\n",
      " 'A10' 'E68' 'B41' 'A20' 'D19' 'D50' 'D9' 'A23' 'B50' 'A26' 'D48' 'E58'\n",
      " 'C126' 'B71' 'B51 B53 B55' 'D49' 'B5' 'B20' 'F G63' 'C62 C64' 'E24' 'C90'\n",
      " 'C45' 'E8' 'B101' 'D45' 'C46' 'D30' 'E121' 'D11' 'E77' 'F38' 'B3' 'D6'\n",
      " 'B82 B84' 'D17' 'A36' 'B102' 'B69' 'E49' 'C47' 'D28' 'E17' 'A24' 'C50'\n",
      " 'B42' 'C148']\n",
      "unique values in Embarked =  ['S' 'C' 'Q' nan]\n"
     ]
    }
   ],
   "source": [
    "print(\"unique values in Survived = \", data[\"Survived\"].unique())\n",
    "print(\"unique values in Pclass = \", data[\"Pclass\"].unique())\n",
    "print(\"unique values in Sex = \", data[\"Sex\"].unique())\n",
    "print(\"unique values in SibSp = \", data[\"SibSp\"].unique())\n",
    "print(\"unique values in Parch = \", data[\"Parch\"].unique())\n",
    "print(\"unique values in Cabin = \", data[\"Cabin\"].unique())\n",
    "print(\"unique values in Embarked = \", data[\"Embarked\"].unique())"
   ]
  },
  {
   "cell_type": "markdown",
   "id": "4c6810f4",
   "metadata": {},
   "source": [
    "# Checking whether the nan values is present or not"
   ]
  },
  {
   "cell_type": "code",
   "execution_count": 33,
   "id": "1b11e67c",
   "metadata": {},
   "outputs": [
    {
     "name": "stdout",
     "output_type": "stream",
     "text": [
      "Number of nan values present in PassengerId 0\n",
      "Number of nan values present in Survived 0\n",
      "Number of nan values present in Pclass 0\n",
      "Number of nan values present in Name 0\n",
      "Number of nan values present in Sex 0\n",
      "Number of nan values present in Age 177\n",
      "Number of nan values present in SibSp 0\n",
      "Number of nan values present in Parch 0\n",
      "Number of nan values present in Ticket 0\n",
      "Number of nan values present in Fare 0\n",
      "Number of nan values present in Cabin 687\n",
      "Number of nan values present in Embarked 2\n"
     ]
    }
   ],
   "source": [
    "print(\"Number of nan values present in PassengerId\",len(data[data[\"PassengerId\"].isnull()]))\n",
    "print(\"Number of nan values present in Survived\",len(data[data[\"Survived\"].isnull()]))\n",
    "print(\"Number of nan values present in Pclass\",len(data[data[\"Pclass\"].isnull()]))\n",
    "print(\"Number of nan values present in Name\",len(data[data[\"Name\"].isnull()]))\n",
    "print(\"Number of nan values present in Sex\",len(data[data[\"Sex\"].isnull()]))\n",
    "print(\"Number of nan values present in Age\",len(data[data[\"Age\"].isnull()]))    # Set all the gender values which are not present as unknown\n",
    "print(\"Number of nan values present in SibSp\",len(data[data[\"SibSp\"].isnull()]))\n",
    "print(\"Number of nan values present in Parch\",len(data[data[\"Parch\"].isnull()]))\n",
    "print(\"Number of nan values present in Ticket\",len(data[data[\"Ticket\"].isnull()]))\n",
    "print(\"Number of nan values present in Fare\",len(data[data[\"Fare\"].isnull()]))\n",
    "print(\"Number of nan values present in Cabin\",len(data[data[\"Cabin\"].isnull()]))     # In Cabin more than half rows are nan. So it is helpful to remove this column. or just replace nan values to unknown \n",
    "print(\"Number of nan values present in Embarked\",len(data[data[\"Embarked\"].isnull()]))     # Remove the nan rows"
   ]
  },
  {
   "cell_type": "markdown",
   "id": "4bc0f6be",
   "metadata": {},
   "source": [
    "# Removing the nan values"
   ]
  },
  {
   "cell_type": "code",
   "execution_count": 37,
   "id": "ee0b5190",
   "metadata": {},
   "outputs": [],
   "source": [
    "# Replace the nan to unknown\n",
    "data[\"Age\"] = data[\"Age\"].replace(np.nan,'unknown')\n",
    "data[\"Cabin\"] = data[\"Cabin\"].replace(np.nan,'unknown')"
   ]
  },
  {
   "cell_type": "code",
   "execution_count": 39,
   "id": "9e655362",
   "metadata": {},
   "outputs": [],
   "source": [
    "# Drop leftover nan rows\n",
    "data_cleaned = data.dropna()"
   ]
  },
  {
   "cell_type": "code",
   "execution_count": 41,
   "id": "0f9ed306",
   "metadata": {},
   "outputs": [
    {
     "name": "stdout",
     "output_type": "stream",
     "text": [
      "Number of nan values present in PassengerId 0\n",
      "Number of nan values present in Survived 0\n",
      "Number of nan values present in Pclass 0\n",
      "Number of nan values present in Name 0\n",
      "Number of nan values present in Sex 0\n",
      "Number of nan values present in Age 0\n",
      "Number of nan values present in SibSp 0\n",
      "Number of nan values present in Parch 0\n",
      "Number of nan values present in Ticket 0\n",
      "Number of nan values present in Fare 0\n",
      "Number of nan values present in Cabin 0\n",
      "Number of nan values present in Embarked 0\n"
     ]
    }
   ],
   "source": [
    "# No nan values present\n",
    "print(\"Number of nan values present in PassengerId\",len(data_cleaned[data_cleaned[\"PassengerId\"].isnull()]))\n",
    "print(\"Number of nan values present in Survived\",len(data_cleaned[data_cleaned[\"Survived\"].isnull()]))\n",
    "print(\"Number of nan values present in Pclass\",len(data_cleaned[data_cleaned[\"Pclass\"].isnull()]))\n",
    "print(\"Number of nan values present in Name\",len(data_cleaned[data_cleaned[\"Name\"].isnull()]))\n",
    "print(\"Number of nan values present in Sex\",len(data_cleaned[data_cleaned[\"Sex\"].isnull()]))\n",
    "print(\"Number of nan values present in Age\",len(data_cleaned[data_cleaned[\"Age\"].isnull()]))\n",
    "print(\"Number of nan values present in SibSp\",len(data_cleaned[data_cleaned[\"SibSp\"].isnull()]))\n",
    "print(\"Number of nan values present in Parch\",len(data_cleaned[data_cleaned[\"Parch\"].isnull()]))\n",
    "print(\"Number of nan values present in Ticket\",len(data_cleaned[data_cleaned[\"Ticket\"].isnull()]))\n",
    "print(\"Number of nan values present in Fare\",len(data_cleaned[data_cleaned[\"Fare\"].isnull()]))\n",
    "print(\"Number of nan values present in Cabin\",len(data_cleaned[data_cleaned[\"Cabin\"].isnull()])) \n",
    "print(\"Number of nan values present in Embarked\",len(data_cleaned[data_cleaned[\"Embarked\"].isnull()]))"
   ]
  },
  {
   "cell_type": "markdown",
   "id": "904ca44a",
   "metadata": {},
   "source": [
    "# Data is Cleaned"
   ]
  }
 ],
 "metadata": {
  "kernelspec": {
   "display_name": "Python 3 (ipykernel)",
   "language": "python",
   "name": "python3"
  },
  "language_info": {
   "codemirror_mode": {
    "name": "ipython",
    "version": 3
   },
   "file_extension": ".py",
   "mimetype": "text/x-python",
   "name": "python",
   "nbconvert_exporter": "python",
   "pygments_lexer": "ipython3",
   "version": "3.11.3"
  }
 },
 "nbformat": 4,
 "nbformat_minor": 5
}
