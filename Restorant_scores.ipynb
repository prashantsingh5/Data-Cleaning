{
 "cells": [
  {
   "cell_type": "code",
   "execution_count": 40,
   "id": "932fc61c",
   "metadata": {},
   "outputs": [],
   "source": [
    "import warnings\n",
    "warnings.filterwarnings(\"ignore\")"
   ]
  },
  {
   "cell_type": "markdown",
   "id": "85b8cad0",
   "metadata": {},
   "source": [
    "# Importing the necessary libraries\\`"
   ]
  },
  {
   "cell_type": "code",
   "execution_count": 1,
   "id": "4e031a40",
   "metadata": {},
   "outputs": [],
   "source": [
    "import numpy as np\n",
    "import pandas as pd"
   ]
  },
  {
   "cell_type": "markdown",
   "id": "90fde416",
   "metadata": {},
   "source": [
    "# Loading the Dataset"
   ]
  },
  {
   "cell_type": "code",
   "execution_count": 2,
   "id": "23941942",
   "metadata": {},
   "outputs": [],
   "source": [
    "data = pd.read_csv(\"Restaurant_Scores_-_LIVES_Standard.csv\")"
   ]
  },
  {
   "cell_type": "markdown",
   "id": "34edcf7d",
   "metadata": {},
   "source": [
    "# Exploring the Dataset"
   ]
  },
  {
   "cell_type": "code",
   "execution_count": 3,
   "id": "63be4b23",
   "metadata": {},
   "outputs": [
    {
     "data": {
      "text/html": [
       "<div>\n",
       "<style scoped>\n",
       "    .dataframe tbody tr th:only-of-type {\n",
       "        vertical-align: middle;\n",
       "    }\n",
       "\n",
       "    .dataframe tbody tr th {\n",
       "        vertical-align: top;\n",
       "    }\n",
       "\n",
       "    .dataframe thead th {\n",
       "        text-align: right;\n",
       "    }\n",
       "</style>\n",
       "<table border=\"1\" class=\"dataframe\">\n",
       "  <thead>\n",
       "    <tr style=\"text-align: right;\">\n",
       "      <th></th>\n",
       "      <th>business_id</th>\n",
       "      <th>business_name</th>\n",
       "      <th>business_address</th>\n",
       "      <th>business_city</th>\n",
       "      <th>business_state</th>\n",
       "      <th>business_postal_code</th>\n",
       "      <th>business_latitude</th>\n",
       "      <th>business_longitude</th>\n",
       "      <th>business_location</th>\n",
       "      <th>business_phone_number</th>\n",
       "      <th>inspection_id</th>\n",
       "      <th>inspection_date</th>\n",
       "      <th>inspection_score</th>\n",
       "      <th>inspection_type</th>\n",
       "      <th>violation_id</th>\n",
       "      <th>violation_description</th>\n",
       "      <th>risk_category</th>\n",
       "    </tr>\n",
       "  </thead>\n",
       "  <tbody>\n",
       "    <tr>\n",
       "      <th>0</th>\n",
       "      <td>10</td>\n",
       "      <td>Tiramisu Kitchen</td>\n",
       "      <td>033 Belden Pl</td>\n",
       "      <td>San Francisco</td>\n",
       "      <td>CA</td>\n",
       "      <td>94104</td>\n",
       "      <td>37.791116</td>\n",
       "      <td>-122.403816</td>\n",
       "      <td>(37.791116, -122.403816)</td>\n",
       "      <td>NaN</td>\n",
       "      <td>10_20140114</td>\n",
       "      <td>01/14/2014 12:00:00 AM</td>\n",
       "      <td>92.0</td>\n",
       "      <td>Routine - Unscheduled</td>\n",
       "      <td>10_20140114_103119</td>\n",
       "      <td>Inadequate and inaccessible handwashing facili...</td>\n",
       "      <td>Moderate Risk</td>\n",
       "    </tr>\n",
       "    <tr>\n",
       "      <th>1</th>\n",
       "      <td>10</td>\n",
       "      <td>Tiramisu Kitchen</td>\n",
       "      <td>033 Belden Pl</td>\n",
       "      <td>San Francisco</td>\n",
       "      <td>CA</td>\n",
       "      <td>94104</td>\n",
       "      <td>37.791116</td>\n",
       "      <td>-122.403816</td>\n",
       "      <td>(37.791116, -122.403816)</td>\n",
       "      <td>NaN</td>\n",
       "      <td>10_20140114</td>\n",
       "      <td>01/14/2014 12:00:00 AM</td>\n",
       "      <td>92.0</td>\n",
       "      <td>Routine - Unscheduled</td>\n",
       "      <td>10_20140114_103145</td>\n",
       "      <td>Improper storage of equipment utensils or linens</td>\n",
       "      <td>Low Risk</td>\n",
       "    </tr>\n",
       "    <tr>\n",
       "      <th>2</th>\n",
       "      <td>10</td>\n",
       "      <td>Tiramisu Kitchen</td>\n",
       "      <td>033 Belden Pl</td>\n",
       "      <td>San Francisco</td>\n",
       "      <td>CA</td>\n",
       "      <td>94104</td>\n",
       "      <td>37.791116</td>\n",
       "      <td>-122.403816</td>\n",
       "      <td>(37.791116, -122.403816)</td>\n",
       "      <td>NaN</td>\n",
       "      <td>10_20140114</td>\n",
       "      <td>01/14/2014 12:00:00 AM</td>\n",
       "      <td>92.0</td>\n",
       "      <td>Routine - Unscheduled</td>\n",
       "      <td>10_20140114_103154</td>\n",
       "      <td>Unclean or degraded floors walls or ceilings</td>\n",
       "      <td>Low Risk</td>\n",
       "    </tr>\n",
       "    <tr>\n",
       "      <th>3</th>\n",
       "      <td>10</td>\n",
       "      <td>Tiramisu Kitchen</td>\n",
       "      <td>033 Belden Pl</td>\n",
       "      <td>San Francisco</td>\n",
       "      <td>CA</td>\n",
       "      <td>94104</td>\n",
       "      <td>37.791116</td>\n",
       "      <td>-122.403816</td>\n",
       "      <td>(37.791116, -122.403816)</td>\n",
       "      <td>NaN</td>\n",
       "      <td>10_20140729</td>\n",
       "      <td>07/29/2014 12:00:00 AM</td>\n",
       "      <td>94.0</td>\n",
       "      <td>Routine - Unscheduled</td>\n",
       "      <td>10_20140729_103144</td>\n",
       "      <td>Unapproved or unmaintained equipment or utensils</td>\n",
       "      <td>Low Risk</td>\n",
       "    </tr>\n",
       "    <tr>\n",
       "      <th>4</th>\n",
       "      <td>10</td>\n",
       "      <td>Tiramisu Kitchen</td>\n",
       "      <td>033 Belden Pl</td>\n",
       "      <td>San Francisco</td>\n",
       "      <td>CA</td>\n",
       "      <td>94104</td>\n",
       "      <td>37.791116</td>\n",
       "      <td>-122.403816</td>\n",
       "      <td>(37.791116, -122.403816)</td>\n",
       "      <td>NaN</td>\n",
       "      <td>10_20140729</td>\n",
       "      <td>07/29/2014 12:00:00 AM</td>\n",
       "      <td>94.0</td>\n",
       "      <td>Routine - Unscheduled</td>\n",
       "      <td>10_20140729_103129</td>\n",
       "      <td>Insufficient hot water or running water</td>\n",
       "      <td>Moderate Risk</td>\n",
       "    </tr>\n",
       "  </tbody>\n",
       "</table>\n",
       "</div>"
      ],
      "text/plain": [
       "   business_id     business_name business_address  business_city  \\\n",
       "0           10  Tiramisu Kitchen    033 Belden Pl  San Francisco   \n",
       "1           10  Tiramisu Kitchen    033 Belden Pl  San Francisco   \n",
       "2           10  Tiramisu Kitchen    033 Belden Pl  San Francisco   \n",
       "3           10  Tiramisu Kitchen    033 Belden Pl  San Francisco   \n",
       "4           10  Tiramisu Kitchen    033 Belden Pl  San Francisco   \n",
       "\n",
       "  business_state business_postal_code  business_latitude  business_longitude  \\\n",
       "0             CA                94104          37.791116         -122.403816   \n",
       "1             CA                94104          37.791116         -122.403816   \n",
       "2             CA                94104          37.791116         -122.403816   \n",
       "3             CA                94104          37.791116         -122.403816   \n",
       "4             CA                94104          37.791116         -122.403816   \n",
       "\n",
       "          business_location  business_phone_number inspection_id  \\\n",
       "0  (37.791116, -122.403816)                    NaN   10_20140114   \n",
       "1  (37.791116, -122.403816)                    NaN   10_20140114   \n",
       "2  (37.791116, -122.403816)                    NaN   10_20140114   \n",
       "3  (37.791116, -122.403816)                    NaN   10_20140729   \n",
       "4  (37.791116, -122.403816)                    NaN   10_20140729   \n",
       "\n",
       "          inspection_date  inspection_score        inspection_type  \\\n",
       "0  01/14/2014 12:00:00 AM              92.0  Routine - Unscheduled   \n",
       "1  01/14/2014 12:00:00 AM              92.0  Routine - Unscheduled   \n",
       "2  01/14/2014 12:00:00 AM              92.0  Routine - Unscheduled   \n",
       "3  07/29/2014 12:00:00 AM              94.0  Routine - Unscheduled   \n",
       "4  07/29/2014 12:00:00 AM              94.0  Routine - Unscheduled   \n",
       "\n",
       "         violation_id                              violation_description  \\\n",
       "0  10_20140114_103119  Inadequate and inaccessible handwashing facili...   \n",
       "1  10_20140114_103145   Improper storage of equipment utensils or linens   \n",
       "2  10_20140114_103154       Unclean or degraded floors walls or ceilings   \n",
       "3  10_20140729_103144   Unapproved or unmaintained equipment or utensils   \n",
       "4  10_20140729_103129            Insufficient hot water or running water   \n",
       "\n",
       "   risk_category  \n",
       "0  Moderate Risk  \n",
       "1       Low Risk  \n",
       "2       Low Risk  \n",
       "3       Low Risk  \n",
       "4  Moderate Risk  "
      ]
     },
     "execution_count": 3,
     "metadata": {},
     "output_type": "execute_result"
    }
   ],
   "source": [
    "data.head()"
   ]
  },
  {
   "cell_type": "code",
   "execution_count": 4,
   "id": "ae9f7319",
   "metadata": {},
   "outputs": [
    {
     "name": "stdout",
     "output_type": "stream",
     "text": [
      "<class 'pandas.core.frame.DataFrame'>\n",
      "RangeIndex: 53555 entries, 0 to 53554\n",
      "Data columns (total 17 columns):\n",
      " #   Column                 Non-Null Count  Dtype  \n",
      "---  ------                 --------------  -----  \n",
      " 0   business_id            53555 non-null  int64  \n",
      " 1   business_name          53555 non-null  object \n",
      " 2   business_address       53555 non-null  object \n",
      " 3   business_city          53555 non-null  object \n",
      " 4   business_state         53555 non-null  object \n",
      " 5   business_postal_code   52198 non-null  object \n",
      " 6   business_latitude      35923 non-null  float64\n",
      " 7   business_longitude     35923 non-null  float64\n",
      " 8   business_location      35923 non-null  object \n",
      " 9   business_phone_number  15808 non-null  float64\n",
      " 10  inspection_id          53555 non-null  object \n",
      " 11  inspection_date        53555 non-null  object \n",
      " 12  inspection_score       40786 non-null  float64\n",
      " 13  inspection_type        53555 non-null  object \n",
      " 14  violation_id           40673 non-null  object \n",
      " 15  violation_description  40673 non-null  object \n",
      " 16  risk_category          40673 non-null  object \n",
      "dtypes: float64(4), int64(1), object(12)\n",
      "memory usage: 6.9+ MB\n"
     ]
    }
   ],
   "source": [
    "data.info()"
   ]
  },
  {
   "cell_type": "code",
   "execution_count": 5,
   "id": "678ad409",
   "metadata": {},
   "outputs": [
    {
     "data": {
      "text/plain": [
       "Index(['business_id', 'business_name', 'business_address', 'business_city',\n",
       "       'business_state', 'business_postal_code', 'business_latitude',\n",
       "       'business_longitude', 'business_location', 'business_phone_number',\n",
       "       'inspection_id', 'inspection_date', 'inspection_score',\n",
       "       'inspection_type', 'violation_id', 'violation_description',\n",
       "       'risk_category'],\n",
       "      dtype='object')"
      ]
     },
     "execution_count": 5,
     "metadata": {},
     "output_type": "execute_result"
    }
   ],
   "source": [
    "data.columns"
   ]
  },
  {
   "cell_type": "code",
   "execution_count": 51,
   "id": "c2b32d14",
   "metadata": {},
   "outputs": [
    {
     "data": {
      "text/plain": [
       "(53525, 15)"
      ]
     },
     "execution_count": 51,
     "metadata": {},
     "output_type": "execute_result"
    }
   ],
   "source": [
    "data.shape"
   ]
  },
  {
   "cell_type": "code",
   "execution_count": 8,
   "id": "d6c4a55f",
   "metadata": {},
   "outputs": [
    {
     "name": "stdout",
     "output_type": "stream",
     "text": [
      "Number unique values in business_id =  6078\n",
      "Number unique values in business_name =  5585\n",
      "Number unique values in business_address =  5392\n",
      "Number unique values in business_city =  1\n",
      "Number unique values in business_state =  1\n",
      "Number unique values in business_postal_code =  46\n",
      "Number unique values in business_latitude =  2825\n",
      "Number unique values in business_longitude =  2874\n",
      "Number unique values in business_location =  2960\n",
      "Number unique values in business_phone_number =  1712\n",
      "Number unique values in inspection_id =  25834\n",
      "Number unique values in inspection_date =  833\n",
      "Number unique values in inspection_score =  50\n",
      "Number unique values in inspection_type =  14\n",
      "Number unique values in violation_id =  40624\n",
      "Number unique values in violation_description =  69\n"
     ]
    }
   ],
   "source": [
    "print(\"Number of unique values in business_id = \", len(data[\"business_id\"].unique()))\n",
    "print(\"Number of unique values in business_name = \", len(data[\"business_name\"].unique()))\n",
    "print(\"Number of unique values in business_address = \", len(data[\"business_address\"].unique()))\n",
    "print(\"Number of unique values in business_city = \", len(data[\"business_city\"].unique()))      # business_city has only one value San Francisco so it is not a necessary column. Hence we can remove it\n",
    "print(\"Number of unique values in business_state = \", len(data[\"business_state\"].unique()))      # business_state has only one value CA so it is not a necessary column. Hence we can remove it\n",
    "print(\"Number of unique values in business_postal_code = \", len(data[\"business_postal_code\"].unique()))\n",
    "print(\"Number of unique values in business_latitude = \", len(data[\"business_latitude\"].unique()))\n",
    "print(\"Number of unique values in business_longitude = \", len(data[\"business_longitude\"].unique()))\n",
    "print(\"Number of unique values in business_location = \", len(data[\"business_location\"].unique()))\n",
    "print(\"Number of unique values in business_phone_number = \", len(data[\"business_phone_number\"].unique()))\n",
    "print(\"Number of unique values in inspection_id = \", len(data[\"inspection_id\"].unique()))\n",
    "print(\"Number of unique values in inspection_date = \", len(data[\"inspection_date\"].unique()))\n",
    "print(\"Number of unique values in inspection_score = \", len(data[\"inspection_score\"].unique()))\n",
    "print(\"Number of unique values in inspection_type = \", len(data[\"inspection_type\"].unique()))\n",
    "print(\"Number of unique values in violation_id = \", len(data[\"violation_id\"].unique()))\n",
    "print(\"Number of unique values in violation_description = \", len(data[\"violation_description\"].unique()))"
   ]
  },
  {
   "cell_type": "code",
   "execution_count": 9,
   "id": "0de0ad27",
   "metadata": {},
   "outputs": [],
   "source": [
    "# Removing the column business_state and business_city\n",
    "data = data.drop(['business_city','business_state'], axis = 1)"
   ]
  },
  {
   "cell_type": "markdown",
   "id": "4f7ba4bc",
   "metadata": {},
   "source": [
    "# Checking whether the nan values is present or not"
   ]
  },
  {
   "cell_type": "code",
   "execution_count": 12,
   "id": "e0b7a122",
   "metadata": {},
   "outputs": [
    {
     "data": {
      "text/plain": [
       "Index(['business_id', 'business_name', 'business_address',\n",
       "       'business_postal_code', 'business_latitude', 'business_longitude',\n",
       "       'business_location', 'business_phone_number', 'inspection_id',\n",
       "       'inspection_date', 'inspection_score', 'inspection_type',\n",
       "       'violation_id', 'violation_description', 'risk_category'],\n",
       "      dtype='object')"
      ]
     },
     "execution_count": 12,
     "metadata": {},
     "output_type": "execute_result"
    }
   ],
   "source": [
    "data.columns"
   ]
  },
  {
   "cell_type": "code",
   "execution_count": 63,
   "id": "59c7f7b5",
   "metadata": {},
   "outputs": [
    {
     "name": "stdout",
     "output_type": "stream",
     "text": [
      "Number of nan values present in business_id 0\n",
      "Number of nan values present in business_name 0\n",
      "Number of nan values present in business_address 0\n",
      "Number of nan values present in business_postal_code 0\n",
      "Number of nan values present in business_latitude 0\n",
      "Number of nan values present in business_longitude 0\n",
      "Number of nan values present in business_location 0\n",
      "Number of nan values present in business_phone_number 0\n",
      "Number of nan values present in inspection_id 0\n",
      "Number of nan values present in inspection_date 0\n",
      "Number of nan values present in inspection_score 0\n",
      "Number of nan values present in inspection_type 0\n",
      "Number of nan values present in violation_id 0\n",
      "Number of nan values present in violation_description 0\n",
      "Number of nan values present in risk_category 0\n"
     ]
    }
   ],
   "source": [
    "print(\"Number of nan values present in business_id\",len(data[data[\"business_id\"].isnull()]))\n",
    "print(\"Number of nan values present in business_name\",len(data[data[\"business_name\"].isnull()]))\n",
    "print(\"Number of nan values present in business_address\",len(data[data[\"business_address\"].isnull()]))\n",
    "print(\"Number of nan values present in business_postal_code\",len(data[data[\"business_postal_code\"].isnull()]))\n",
    "print(\"Number of nan values present in business_latitude\",len(data[data[\"business_latitude\"].isnull()]))\n",
    "print(\"Number of nan values present in business_longitude\",len(data[data[\"business_longitude\"].isnull()]))\n",
    "print(\"Number of nan values present in business_location\",len(data[data[\"business_location\"].isnull()]))\n",
    "print(\"Number of nan values present in business_phone_number\",len(data[data[\"business_phone_number\"].isnull()]))\n",
    "print(\"Number of nan values present in inspection_id\",len(data[data[\"inspection_id\"].isnull()]))\n",
    "print(\"Number of nan values present in inspection_date\",len(data[data[\"inspection_date\"].isnull()]))\n",
    "print(\"Number of nan values present in inspection_score\",len(data[data[\"inspection_score\"].isnull()]))\n",
    "print(\"Number of nan values present in inspection_type\",len(data[data[\"inspection_type\"].isnull()]))\n",
    "print(\"Number of nan values present in violation_id\",len(data[data[\"violation_id\"].isnull()]))\n",
    "print(\"Number of nan values present in violation_description\",len(data[data[\"violation_description\"].isnull()]))\n",
    "print(\"Number of nan values present in risk_category\",len(data[data[\"risk_category\"].isnull()]))"
   ]
  },
  {
   "cell_type": "markdown",
   "id": "a5ba9951",
   "metadata": {},
   "source": [
    "### Tackling the business_latitude and business_longitude of dataset"
   ]
  },
  {
   "cell_type": "code",
   "execution_count": 15,
   "id": "d6699296",
   "metadata": {},
   "outputs": [
    {
     "data": {
      "text/plain": [
       "count    35923.000000\n",
       "mean      -122.192078\n",
       "std          5.360567\n",
       "min       -122.510896\n",
       "25%       -122.437677\n",
       "50%       -122.418983\n",
       "75%       -122.407430\n",
       "max          0.000000\n",
       "Name: business_longitude, dtype: float64"
      ]
     },
     "execution_count": 15,
     "metadata": {},
     "output_type": "execute_result"
    }
   ],
   "source": [
    "data[\"business_longitude\"].describe()"
   ]
  },
  {
   "cell_type": "code",
   "execution_count": 16,
   "id": "e82fb303",
   "metadata": {},
   "outputs": [],
   "source": [
    "# we are going to replace the latitude and longitude of this dataset with its mean\n",
    "data[\"business_latitude\"] = data[\"business_latitude\"].mean()\n",
    "data[\"business_longitude\"] = data[\"business_longitude\"].mean()"
   ]
  },
  {
   "cell_type": "markdown",
   "id": "38de8f30",
   "metadata": {},
   "source": [
    "### Tackling the business_postal_code of Dataset"
   ]
  },
  {
   "cell_type": "code",
   "execution_count": 21,
   "id": "f363cd67",
   "metadata": {},
   "outputs": [
    {
     "data": {
      "text/plain": [
       "array(['94104', '94110', '94108', '94114', '94109', nan, '94134', '94118',\n",
       "       '94133', '94111', '94122', '94107', '94123', '94103', '94121',\n",
       "       '94105', '94112', '94115', '94143', '94132', '94102', '94127',\n",
       "       '94124', '94131', '94129', '94116', '94130', '94117', '94158',\n",
       "       '94602', 'CA', '94120', '94013', '94014', '941033148', 'Ca',\n",
       "       '00000', '95105', '94609', '94101', '941102019', '941', '92672',\n",
       "       '94545', '94066', '94188'], dtype=object)"
      ]
     },
     "execution_count": 21,
     "metadata": {},
     "output_type": "execute_result"
    }
   ],
   "source": [
    "data[\"business_postal_code\"].unique()    # CA,Ca values are not correct for this column"
   ]
  },
  {
   "cell_type": "code",
   "execution_count": 34,
   "id": "62723a43",
   "metadata": {},
   "outputs": [],
   "source": [
    "# removing the rows that contain CA or Ca\n",
    "mask_CA = data['business_postal_code'].str.contains('CA')\n",
    "mask_Ca = data['business_postal_code'].str.contains('Ca')\n",
    "mask = mask_CA | mask_Ca\n",
    "data = data[~mask]"
   ]
  },
  {
   "cell_type": "code",
   "execution_count": 41,
   "id": "c4151e5e",
   "metadata": {},
   "outputs": [],
   "source": [
    "# Changing the data type to float\n",
    "data[\"business_postal_code\"] = data[\"business_postal_code\"].astype(float)"
   ]
  },
  {
   "cell_type": "code",
   "execution_count": 44,
   "id": "e7cb63c3",
   "metadata": {},
   "outputs": [],
   "source": [
    "# Replacing the nan with mode\n",
    "data['business_postal_code'] = data['business_postal_code'].fillna(data['business_postal_code'].mode()[0])"
   ]
  },
  {
   "cell_type": "markdown",
   "id": "2f4a940e",
   "metadata": {},
   "source": [
    "### Tackling the business_location of Dataset"
   ]
  },
  {
   "cell_type": "code",
   "execution_count": 48,
   "id": "cd9a905b",
   "metadata": {},
   "outputs": [
    {
     "data": {
      "text/plain": [
       "count                        35913\n",
       "unique                        2958\n",
       "top       (37.778382, -122.391151)\n",
       "freq                           402\n",
       "Name: business_location, dtype: object"
      ]
     },
     "execution_count": 48,
     "metadata": {},
     "output_type": "execute_result"
    }
   ],
   "source": [
    "data['business_location'].describe()"
   ]
  },
  {
   "cell_type": "code",
   "execution_count": 49,
   "id": "db64b6ab",
   "metadata": {},
   "outputs": [],
   "source": [
    "data['business_location'] = data['business_location'].fillna(data['business_location'].mode()[0])"
   ]
  },
  {
   "cell_type": "markdown",
   "id": "62f872e6",
   "metadata": {},
   "source": [
    "### Tackling the business_phone_number of Dataset"
   ]
  },
  {
   "cell_type": "code",
   "execution_count": 56,
   "id": "bb6c2027",
   "metadata": {},
   "outputs": [
    {
     "data": {
      "text/plain": [
       "0"
      ]
     },
     "execution_count": 56,
     "metadata": {},
     "output_type": "execute_result"
    }
   ],
   "source": [
    "len(data[data[\"business_phone_number\"].isnull()])   # This column contains more than 50% of nan values, Hence it is recommended to remove it"
   ]
  },
  {
   "cell_type": "code",
   "execution_count": 55,
   "id": "25b4dc52",
   "metadata": {},
   "outputs": [],
   "source": [
    "data[\"business_phone_number\"] = data[\"business_phone_number\"].replace(np.nan, 'Not Available')   # all the nan values are removed"
   ]
  },
  {
   "cell_type": "markdown",
   "id": "3e792143",
   "metadata": {},
   "source": [
    "### Tackling the inspection_score of Dataset"
   ]
  },
  {
   "cell_type": "code",
   "execution_count": 58,
   "id": "7dbbc40d",
   "metadata": {},
   "outputs": [],
   "source": [
    "data['inspection_score'] = data['inspection_score'].fillna(data['inspection_score'].mean())"
   ]
  },
  {
   "cell_type": "markdown",
   "id": "716b988c",
   "metadata": {},
   "source": [
    "### Tackling the violation_id, violation_description, risk_category of Dataset"
   ]
  },
  {
   "cell_type": "code",
   "execution_count": 62,
   "id": "df1f35ee",
   "metadata": {},
   "outputs": [],
   "source": [
    "# we are going to replace nan with \"NOT AVAILABLE\"\n",
    "data['violation_id'] = data['violation_id'].replace(np.nan, \"NOT AVAILABLE\")\n",
    "data['violation_description'] = data['violation_description'].replace(np.nan, \"NOT AVAILABLE\")\n",
    "data['risk_category'] = data['risk_category'].replace(np.nan, \"NOT AVAILABLE\")"
   ]
  },
  {
   "cell_type": "code",
   "execution_count": 64,
   "id": "d49eb3b5",
   "metadata": {},
   "outputs": [
    {
     "name": "stdout",
     "output_type": "stream",
     "text": [
      "Number of nan values present in business_id 0\n",
      "Number of nan values present in business_name 0\n",
      "Number of nan values present in business_address 0\n",
      "Number of nan values present in business_postal_code 0\n",
      "Number of nan values present in business_latitude 0\n",
      "Number of nan values present in business_longitude 0\n",
      "Number of nan values present in business_location 0\n",
      "Number of nan values present in business_phone_number 0\n",
      "Number of nan values present in inspection_id 0\n",
      "Number of nan values present in inspection_date 0\n",
      "Number of nan values present in inspection_score 0\n",
      "Number of nan values present in inspection_type 0\n",
      "Number of nan values present in violation_id 0\n",
      "Number of nan values present in violation_description 0\n",
      "Number of nan values present in risk_category 0\n"
     ]
    }
   ],
   "source": [
    "print(\"Number of nan values present in business_id\",len(data[data[\"business_id\"].isnull()]))\n",
    "print(\"Number of nan values present in business_name\",len(data[data[\"business_name\"].isnull()]))\n",
    "print(\"Number of nan values present in business_address\",len(data[data[\"business_address\"].isnull()]))\n",
    "print(\"Number of nan values present in business_postal_code\",len(data[data[\"business_postal_code\"].isnull()]))\n",
    "print(\"Number of nan values present in business_latitude\",len(data[data[\"business_latitude\"].isnull()]))\n",
    "print(\"Number of nan values present in business_longitude\",len(data[data[\"business_longitude\"].isnull()]))\n",
    "print(\"Number of nan values present in business_location\",len(data[data[\"business_location\"].isnull()]))\n",
    "print(\"Number of nan values present in business_phone_number\",len(data[data[\"business_phone_number\"].isnull()]))\n",
    "print(\"Number of nan values present in inspection_id\",len(data[data[\"inspection_id\"].isnull()]))\n",
    "print(\"Number of nan values present in inspection_date\",len(data[data[\"inspection_date\"].isnull()]))\n",
    "print(\"Number of nan values present in inspection_score\",len(data[data[\"inspection_score\"].isnull()]))\n",
    "print(\"Number of nan values present in inspection_type\",len(data[data[\"inspection_type\"].isnull()]))\n",
    "print(\"Number of nan values present in violation_id\",len(data[data[\"violation_id\"].isnull()]))\n",
    "print(\"Number of nan values present in violation_description\",len(data[data[\"violation_description\"].isnull()]))\n",
    "print(\"Number of nan values present in risk_category\",len(data[data[\"risk_category\"].isnull()]))"
   ]
  },
  {
   "cell_type": "markdown",
   "id": "99f989c2",
   "metadata": {},
   "source": [
    "# All the Data is cleaned"
   ]
  }
 ],
 "metadata": {
  "kernelspec": {
   "display_name": "Python 3 (ipykernel)",
   "language": "python",
   "name": "python3"
  },
  "language_info": {
   "codemirror_mode": {
    "name": "ipython",
    "version": 3
   },
   "file_extension": ".py",
   "mimetype": "text/x-python",
   "name": "python",
   "nbconvert_exporter": "python",
   "pygments_lexer": "ipython3",
   "version": "3.11.3"
  }
 },
 "nbformat": 4,
 "nbformat_minor": 5
}
