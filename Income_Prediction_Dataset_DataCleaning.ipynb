{
 "cells": [
  {
   "cell_type": "markdown",
   "id": "9a1a7f99",
   "metadata": {},
   "source": [
    "# Importing all the libraries"
   ]
  },
  {
   "cell_type": "code",
   "execution_count": 1,
   "id": "b08df692",
   "metadata": {},
   "outputs": [],
   "source": [
    "import pandas as pd\n",
    "import numpy as np"
   ]
  },
  {
   "cell_type": "markdown",
   "id": "ed6ab682",
   "metadata": {},
   "source": [
    "# Loading the Dataset"
   ]
  },
  {
   "cell_type": "code",
   "execution_count": 2,
   "id": "a04115e3",
   "metadata": {},
   "outputs": [],
   "source": [
    "data = pd.read_csv(\"adult.csv\")"
   ]
  },
  {
   "cell_type": "markdown",
   "id": "c3d2e7c0",
   "metadata": {},
   "source": [
    "# Exploring the Dataset"
   ]
  },
  {
   "cell_type": "code",
   "execution_count": 3,
   "id": "468c1045",
   "metadata": {},
   "outputs": [
    {
     "data": {
      "text/html": [
       "<div>\n",
       "<style scoped>\n",
       "    .dataframe tbody tr th:only-of-type {\n",
       "        vertical-align: middle;\n",
       "    }\n",
       "\n",
       "    .dataframe tbody tr th {\n",
       "        vertical-align: top;\n",
       "    }\n",
       "\n",
       "    .dataframe thead th {\n",
       "        text-align: right;\n",
       "    }\n",
       "</style>\n",
       "<table border=\"1\" class=\"dataframe\">\n",
       "  <thead>\n",
       "    <tr style=\"text-align: right;\">\n",
       "      <th></th>\n",
       "      <th>age</th>\n",
       "      <th>workclass</th>\n",
       "      <th>fnlwgt</th>\n",
       "      <th>education</th>\n",
       "      <th>education.num</th>\n",
       "      <th>marital.status</th>\n",
       "      <th>occupation</th>\n",
       "      <th>relationship</th>\n",
       "      <th>race</th>\n",
       "      <th>sex</th>\n",
       "      <th>capital.gain</th>\n",
       "      <th>capital.loss</th>\n",
       "      <th>hours.per.week</th>\n",
       "      <th>native.country</th>\n",
       "      <th>income</th>\n",
       "    </tr>\n",
       "  </thead>\n",
       "  <tbody>\n",
       "    <tr>\n",
       "      <th>0</th>\n",
       "      <td>90</td>\n",
       "      <td>?</td>\n",
       "      <td>77053</td>\n",
       "      <td>HS-grad</td>\n",
       "      <td>9</td>\n",
       "      <td>Widowed</td>\n",
       "      <td>?</td>\n",
       "      <td>Not-in-family</td>\n",
       "      <td>White</td>\n",
       "      <td>Female</td>\n",
       "      <td>0</td>\n",
       "      <td>4356</td>\n",
       "      <td>40</td>\n",
       "      <td>United-States</td>\n",
       "      <td>&lt;=50K</td>\n",
       "    </tr>\n",
       "    <tr>\n",
       "      <th>1</th>\n",
       "      <td>82</td>\n",
       "      <td>Private</td>\n",
       "      <td>132870</td>\n",
       "      <td>HS-grad</td>\n",
       "      <td>9</td>\n",
       "      <td>Widowed</td>\n",
       "      <td>Exec-managerial</td>\n",
       "      <td>Not-in-family</td>\n",
       "      <td>White</td>\n",
       "      <td>Female</td>\n",
       "      <td>0</td>\n",
       "      <td>4356</td>\n",
       "      <td>18</td>\n",
       "      <td>United-States</td>\n",
       "      <td>&lt;=50K</td>\n",
       "    </tr>\n",
       "    <tr>\n",
       "      <th>2</th>\n",
       "      <td>66</td>\n",
       "      <td>?</td>\n",
       "      <td>186061</td>\n",
       "      <td>Some-college</td>\n",
       "      <td>10</td>\n",
       "      <td>Widowed</td>\n",
       "      <td>?</td>\n",
       "      <td>Unmarried</td>\n",
       "      <td>Black</td>\n",
       "      <td>Female</td>\n",
       "      <td>0</td>\n",
       "      <td>4356</td>\n",
       "      <td>40</td>\n",
       "      <td>United-States</td>\n",
       "      <td>&lt;=50K</td>\n",
       "    </tr>\n",
       "    <tr>\n",
       "      <th>3</th>\n",
       "      <td>54</td>\n",
       "      <td>Private</td>\n",
       "      <td>140359</td>\n",
       "      <td>7th-8th</td>\n",
       "      <td>4</td>\n",
       "      <td>Divorced</td>\n",
       "      <td>Machine-op-inspct</td>\n",
       "      <td>Unmarried</td>\n",
       "      <td>White</td>\n",
       "      <td>Female</td>\n",
       "      <td>0</td>\n",
       "      <td>3900</td>\n",
       "      <td>40</td>\n",
       "      <td>United-States</td>\n",
       "      <td>&lt;=50K</td>\n",
       "    </tr>\n",
       "    <tr>\n",
       "      <th>4</th>\n",
       "      <td>41</td>\n",
       "      <td>Private</td>\n",
       "      <td>264663</td>\n",
       "      <td>Some-college</td>\n",
       "      <td>10</td>\n",
       "      <td>Separated</td>\n",
       "      <td>Prof-specialty</td>\n",
       "      <td>Own-child</td>\n",
       "      <td>White</td>\n",
       "      <td>Female</td>\n",
       "      <td>0</td>\n",
       "      <td>3900</td>\n",
       "      <td>40</td>\n",
       "      <td>United-States</td>\n",
       "      <td>&lt;=50K</td>\n",
       "    </tr>\n",
       "  </tbody>\n",
       "</table>\n",
       "</div>"
      ],
      "text/plain": [
       "   age workclass  fnlwgt     education  education.num marital.status  \\\n",
       "0   90         ?   77053       HS-grad              9        Widowed   \n",
       "1   82   Private  132870       HS-grad              9        Widowed   \n",
       "2   66         ?  186061  Some-college             10        Widowed   \n",
       "3   54   Private  140359       7th-8th              4       Divorced   \n",
       "4   41   Private  264663  Some-college             10      Separated   \n",
       "\n",
       "          occupation   relationship   race     sex  capital.gain  \\\n",
       "0                  ?  Not-in-family  White  Female             0   \n",
       "1    Exec-managerial  Not-in-family  White  Female             0   \n",
       "2                  ?      Unmarried  Black  Female             0   \n",
       "3  Machine-op-inspct      Unmarried  White  Female             0   \n",
       "4     Prof-specialty      Own-child  White  Female             0   \n",
       "\n",
       "   capital.loss  hours.per.week native.country income  \n",
       "0          4356              40  United-States  <=50K  \n",
       "1          4356              18  United-States  <=50K  \n",
       "2          4356              40  United-States  <=50K  \n",
       "3          3900              40  United-States  <=50K  \n",
       "4          3900              40  United-States  <=50K  "
      ]
     },
     "execution_count": 3,
     "metadata": {},
     "output_type": "execute_result"
    }
   ],
   "source": [
    "data.head()"
   ]
  },
  {
   "cell_type": "code",
   "execution_count": 4,
   "id": "e941ddbb",
   "metadata": {},
   "outputs": [
    {
     "data": {
      "text/plain": [
       "(32561, 15)"
      ]
     },
     "execution_count": 4,
     "metadata": {},
     "output_type": "execute_result"
    }
   ],
   "source": [
    "data.shape"
   ]
  },
  {
   "cell_type": "code",
   "execution_count": 5,
   "id": "5297c87c",
   "metadata": {},
   "outputs": [
    {
     "name": "stdout",
     "output_type": "stream",
     "text": [
      "<class 'pandas.core.frame.DataFrame'>\n",
      "RangeIndex: 32561 entries, 0 to 32560\n",
      "Data columns (total 15 columns):\n",
      " #   Column          Non-Null Count  Dtype \n",
      "---  ------          --------------  ----- \n",
      " 0   age             32561 non-null  int64 \n",
      " 1   workclass       32561 non-null  object\n",
      " 2   fnlwgt          32561 non-null  int64 \n",
      " 3   education       32561 non-null  object\n",
      " 4   education.num   32561 non-null  int64 \n",
      " 5   marital.status  32561 non-null  object\n",
      " 6   occupation      32561 non-null  object\n",
      " 7   relationship    32561 non-null  object\n",
      " 8   race            32561 non-null  object\n",
      " 9   sex             32561 non-null  object\n",
      " 10  capital.gain    32561 non-null  int64 \n",
      " 11  capital.loss    32561 non-null  int64 \n",
      " 12  hours.per.week  32561 non-null  int64 \n",
      " 13  native.country  32561 non-null  object\n",
      " 14  income          32561 non-null  object\n",
      "dtypes: int64(6), object(9)\n",
      "memory usage: 3.7+ MB\n"
     ]
    }
   ],
   "source": [
    "data.info()"
   ]
  },
  {
   "cell_type": "code",
   "execution_count": 6,
   "id": "32f43f88",
   "metadata": {},
   "outputs": [
    {
     "name": "stdout",
     "output_type": "stream",
     "text": [
      "Number of unique values in age =  73\n",
      "Number of unique values in workclass =  9\n",
      "Number of unique values in fnlwgt =  21648\n",
      "Number of unique values in education =  16\n",
      "Number of unique values in education.num =  16\n",
      "Number of unique values in marital.status =  7\n",
      "Number of unique values in occupation =  15\n",
      "Number of unique values in relationship =  6\n",
      "Number of unique values in race =  5\n",
      "Number of unique values in sex =  2\n",
      "Number of unique values in capital.gain =  119\n",
      "Number of unique values in capital.loss =  92\n",
      "Number of unique values in hours.per.week =  94\n",
      "Number of unique values in native.country =  42\n",
      "Number of unique values in income =  2\n"
     ]
    }
   ],
   "source": [
    "print(\"Number of unique values in age = \", len(data[\"age\"].unique()))\n",
    "print(\"Number of unique values in workclass = \", len(data[\"workclass\"].unique()))\n",
    "print(\"Number of unique values in fnlwgt = \", len(data[\"fnlwgt\"].unique()))\n",
    "print(\"Number of unique values in education = \", len(data[\"education\"].unique()))      # business_city has only one value San Francisco so it is not a necessary column. Hence we can remove it\n",
    "print(\"Number of unique values in education.num = \", len(data[\"education.num\"].unique()))      # business_state has only one value CA so it is not a necessary column. Hence we can remove it\n",
    "print(\"Number of unique values in marital.status = \", len(data[\"marital.status\"].unique()))\n",
    "print(\"Number of unique values in occupation = \", len(data[\"occupation\"].unique()))\n",
    "print(\"Number of unique values in relationship = \", len(data[\"relationship\"].unique()))\n",
    "print(\"Number of unique values in race = \", len(data[\"race\"].unique()))\n",
    "print(\"Number of unique values in sex = \", len(data[\"sex\"].unique()))\n",
    "print(\"Number of unique values in capital.gain = \", len(data[\"capital.gain\"].unique()))\n",
    "print(\"Number of unique values in capital.loss = \", len(data[\"capital.loss\"].unique()))\n",
    "print(\"Number of unique values in hours.per.week = \", len(data[\"hours.per.week\"].unique()))\n",
    "print(\"Number of unique values in native.country = \", len(data[\"native.country\"].unique()))\n",
    "print(\"Number of unique values in income = \", len(data[\"income\"].unique()))"
   ]
  },
  {
   "cell_type": "markdown",
   "id": "b7662e75",
   "metadata": {},
   "source": [
    "# Checking whether the nan values is present or not"
   ]
  },
  {
   "cell_type": "code",
   "execution_count": 7,
   "id": "97717019",
   "metadata": {},
   "outputs": [
    {
     "data": {
      "text/plain": [
       "Index(['age', 'workclass', 'fnlwgt', 'education', 'education.num',\n",
       "       'marital.status', 'occupation', 'relationship', 'race', 'sex',\n",
       "       'capital.gain', 'capital.loss', 'hours.per.week', 'native.country',\n",
       "       'income'],\n",
       "      dtype='object')"
      ]
     },
     "execution_count": 7,
     "metadata": {},
     "output_type": "execute_result"
    }
   ],
   "source": [
    "data.columns"
   ]
  },
  {
   "cell_type": "code",
   "execution_count": 8,
   "id": "b5584e43",
   "metadata": {},
   "outputs": [
    {
     "name": "stdout",
     "output_type": "stream",
     "text": [
      "Number of nan values present in age 0\n",
      "Number of nan values present in workclass 0\n",
      "Number of nan values present in fnlwgt 0\n",
      "Number of nan values present in education 0\n",
      "Number of nan values present in education.num 0\n",
      "Number of nan values present in marital.status 0\n",
      "Number of nan values present in occupation 0\n",
      "Number of nan values present in relationship 0\n",
      "Number of nan values present in race 0\n",
      "Number of nan values present in sex 0\n",
      "Number of nan values present in capital.gain 0\n",
      "Number of nan values present in capital.loss 0\n",
      "Number of nan values present in hours.per.week 0\n",
      "Number of nan values present in native.country 0\n",
      "Number of nan values present in income 0\n"
     ]
    }
   ],
   "source": [
    "# no nan values are present but there might be some other uncleaned values that need to be cleaned\n",
    "print(\"Number of nan values present in age\",len(data[data[\"age\"].isnull()]))\n",
    "print(\"Number of nan values present in workclass\",len(data[data[\"workclass\"].isnull()]))\n",
    "print(\"Number of nan values present in fnlwgt\",len(data[data[\"fnlwgt\"].isnull()]))\n",
    "print(\"Number of nan values present in education\",len(data[data[\"education\"].isnull()]))\n",
    "print(\"Number of nan values present in education.num\",len(data[data[\"education.num\"].isnull()]))\n",
    "print(\"Number of nan values present in marital.status\",len(data[data[\"marital.status\"].isnull()]))\n",
    "print(\"Number of nan values present in occupation\",len(data[data[\"occupation\"].isnull()]))\n",
    "print(\"Number of nan values present in relationship\",len(data[data[\"relationship\"].isnull()]))\n",
    "print(\"Number of nan values present in race\",len(data[data[\"race\"].isnull()]))\n",
    "print(\"Number of nan values present in sex\",len(data[data[\"sex\"].isnull()]))\n",
    "print(\"Number of nan values present in capital.gain\",len(data[data[\"capital.gain\"].isnull()]))\n",
    "print(\"Number of nan values present in capital.loss\",len(data[data[\"capital.loss\"].isnull()]))\n",
    "print(\"Number of nan values present in hours.per.week\",len(data[data[\"hours.per.week\"].isnull()]))\n",
    "print(\"Number of nan values present in native.country\",len(data[data[\"native.country\"].isnull()]))\n",
    "print(\"Number of nan values present in income\",len(data[data[\"income\"].isnull()]))"
   ]
  },
  {
   "cell_type": "markdown",
   "id": "78d5b788",
   "metadata": {},
   "source": [
    "### Tackling the workclass of dataset"
   ]
  },
  {
   "cell_type": "code",
   "execution_count": 15,
   "id": "8ec127ae",
   "metadata": {},
   "outputs": [
    {
     "data": {
      "text/plain": [
       "array(['Not Specified', 'Private', 'State-gov', 'Federal-gov',\n",
       "       'Self-emp-not-inc', 'Self-emp-inc', 'Local-gov', 'Without-pay',\n",
       "       'Never-worked'], dtype=object)"
      ]
     },
     "execution_count": 15,
     "metadata": {},
     "output_type": "execute_result"
    }
   ],
   "source": [
    "data[\"workclass\"].unique()    # in this '?' is the uncleaned values"
   ]
  },
  {
   "cell_type": "code",
   "execution_count": 10,
   "id": "e53bda95",
   "metadata": {},
   "outputs": [],
   "source": [
    "# Program to count repetition of same value in a column\n",
    "def count_specified_values(df, column, specified_values):\n",
    "    return df[column].isin(specified_values).sum()"
   ]
  },
  {
   "cell_type": "code",
   "execution_count": 13,
   "id": "da205c53",
   "metadata": {},
   "outputs": [
    {
     "data": {
      "text/plain": [
       "1836"
      ]
     },
     "execution_count": 13,
     "metadata": {},
     "output_type": "execute_result"
    }
   ],
   "source": [
    "count = count_specified_values(data, 'workclass', ['?'])\n",
    "count"
   ]
  },
  {
   "cell_type": "code",
   "execution_count": 14,
   "id": "72d67dff",
   "metadata": {},
   "outputs": [],
   "source": [
    "data['workclass'] = data[\"workclass\"].replace('?','Not Specified')"
   ]
  },
  {
   "cell_type": "markdown",
   "id": "0638d559",
   "metadata": {},
   "source": [
    "### Tackling the fnlwgt of dataset"
   ]
  },
  {
   "cell_type": "code",
   "execution_count": 16,
   "id": "2e614e77",
   "metadata": {},
   "outputs": [
    {
     "data": {
      "text/plain": [
       "array([ 77053, 132870, 186061, ...,  34066,  84661, 257302], dtype=int64)"
      ]
     },
     "execution_count": 16,
     "metadata": {},
     "output_type": "execute_result"
    }
   ],
   "source": [
    "data[\"fnlwgt\"].unique()    # This column is already cleaned"
   ]
  },
  {
   "cell_type": "markdown",
   "id": "ac1126d6",
   "metadata": {},
   "source": [
    "### Tackling the education of dataset"
   ]
  },
  {
   "cell_type": "code",
   "execution_count": 19,
   "id": "7ea956e8",
   "metadata": {},
   "outputs": [
    {
     "data": {
      "text/plain": [
       "array(['HS-grad', 'Some-college', '7th-8th', '10th', 'Doctorate',\n",
       "       'Prof-school', 'Bachelors', 'Masters', '11th', 'Assoc-acdm',\n",
       "       'Assoc-voc', '1st-4th', '5th-6th', '12th', '9th', 'Preschool'],\n",
       "      dtype=object)"
      ]
     },
     "execution_count": 19,
     "metadata": {},
     "output_type": "execute_result"
    }
   ],
   "source": [
    "data[\"education\"].unique()     # This column doesn't any unknown and it is cleaned"
   ]
  },
  {
   "cell_type": "markdown",
   "id": "a9f55242",
   "metadata": {},
   "source": [
    "### Tackling the education.num of dataset"
   ]
  },
  {
   "cell_type": "code",
   "execution_count": 21,
   "id": "1e17a2d0",
   "metadata": {},
   "outputs": [
    {
     "data": {
      "text/plain": [
       "array([ 9, 10,  4,  6, 16, 15, 13, 14,  7, 12, 11,  2,  3,  8,  5,  1],\n",
       "      dtype=int64)"
      ]
     },
     "execution_count": 21,
     "metadata": {},
     "output_type": "execute_result"
    }
   ],
   "source": [
    "data[\"education.num\"].unique()      # This column is already cleaned"
   ]
  },
  {
   "cell_type": "markdown",
   "id": "b68c28ee",
   "metadata": {},
   "source": [
    "### Tackling the marital.status of dataset"
   ]
  },
  {
   "cell_type": "code",
   "execution_count": 22,
   "id": "aac2374b",
   "metadata": {},
   "outputs": [
    {
     "data": {
      "text/plain": [
       "array(['Widowed', 'Divorced', 'Separated', 'Never-married',\n",
       "       'Married-civ-spouse', 'Married-spouse-absent', 'Married-AF-spouse'],\n",
       "      dtype=object)"
      ]
     },
     "execution_count": 22,
     "metadata": {},
     "output_type": "execute_result"
    }
   ],
   "source": [
    "data[\"marital.status\"].unique()       # This column is already cleaned"
   ]
  },
  {
   "cell_type": "markdown",
   "id": "9d5e1513",
   "metadata": {},
   "source": [
    "### Tackling the occupation of dataset"
   ]
  },
  {
   "cell_type": "code",
   "execution_count": 26,
   "id": "8fb06340",
   "metadata": {},
   "outputs": [
    {
     "data": {
      "text/plain": [
       "array(['Not Specified by the user', 'Exec-managerial',\n",
       "       'Machine-op-inspct', 'Prof-specialty', 'Other-service',\n",
       "       'Adm-clerical', 'Craft-repair', 'Transport-moving',\n",
       "       'Handlers-cleaners', 'Sales', 'Farming-fishing', 'Tech-support',\n",
       "       'Protective-serv', 'Armed-Forces', 'Priv-house-serv'], dtype=object)"
      ]
     },
     "execution_count": 26,
     "metadata": {},
     "output_type": "execute_result"
    }
   ],
   "source": [
    "data[\"occupation\"].unique()        # in this '?' is the uncleaned values"
   ]
  },
  {
   "cell_type": "code",
   "execution_count": 24,
   "id": "757d2186",
   "metadata": {},
   "outputs": [
    {
     "data": {
      "text/plain": [
       "1843"
      ]
     },
     "execution_count": 24,
     "metadata": {},
     "output_type": "execute_result"
    }
   ],
   "source": [
    "count = count_specified_values(data, 'occupation', ['?'])\n",
    "count"
   ]
  },
  {
   "cell_type": "code",
   "execution_count": 25,
   "id": "1e0f50a0",
   "metadata": {},
   "outputs": [],
   "source": [
    "data['occupation'] = data[\"occupation\"].replace('?','Not Specified by the user')"
   ]
  },
  {
   "cell_type": "markdown",
   "id": "4c305269",
   "metadata": {},
   "source": [
    "### Tackling the relationship of dataset"
   ]
  },
  {
   "cell_type": "code",
   "execution_count": 27,
   "id": "cfbe16a6",
   "metadata": {},
   "outputs": [
    {
     "data": {
      "text/plain": [
       "array(['Not-in-family', 'Unmarried', 'Own-child', 'Other-relative',\n",
       "       'Husband', 'Wife'], dtype=object)"
      ]
     },
     "execution_count": 27,
     "metadata": {},
     "output_type": "execute_result"
    }
   ],
   "source": [
    "data[\"relationship\"].unique()        # This column is already cleaned"
   ]
  },
  {
   "cell_type": "markdown",
   "id": "368936e2",
   "metadata": {},
   "source": [
    "### Tackling the race of dataset"
   ]
  },
  {
   "cell_type": "code",
   "execution_count": 28,
   "id": "b396a5a4",
   "metadata": {},
   "outputs": [
    {
     "data": {
      "text/plain": [
       "array(['White', 'Black', 'Asian-Pac-Islander', 'Other',\n",
       "       'Amer-Indian-Eskimo'], dtype=object)"
      ]
     },
     "execution_count": 28,
     "metadata": {},
     "output_type": "execute_result"
    }
   ],
   "source": [
    "data[\"race\"].unique()        # This column is already cleaned"
   ]
  },
  {
   "cell_type": "markdown",
   "id": "d540cac8",
   "metadata": {},
   "source": [
    "### Tackling the sex of dataset"
   ]
  },
  {
   "cell_type": "code",
   "execution_count": 29,
   "id": "bf969d6d",
   "metadata": {},
   "outputs": [
    {
     "data": {
      "text/plain": [
       "array(['Female', 'Male'], dtype=object)"
      ]
     },
     "execution_count": 29,
     "metadata": {},
     "output_type": "execute_result"
    }
   ],
   "source": [
    "data[\"sex\"].unique()        # This column is already cleaned"
   ]
  },
  {
   "cell_type": "markdown",
   "id": "25c34160",
   "metadata": {},
   "source": [
    "### Tackling the capital.gain of dataset"
   ]
  },
  {
   "cell_type": "code",
   "execution_count": 32,
   "id": "8a55b842",
   "metadata": {},
   "outputs": [
    {
     "data": {
      "text/plain": [
       "array([    0, 99999, 41310, 34095, 27828, 25236, 25124, 22040, 20051,\n",
       "       18481, 15831, 15024, 15020, 14344, 14084, 13550, 11678, 10605,\n",
       "       10566, 10520,  9562,  9386,  8614,  7978,  7896,  7688,  7443,\n",
       "        7430,  7298,  6849,  6767,  6723,  6514,  6497,  6418,  6360,\n",
       "        6097,  5721,  5556,  5455,  5178,  5060,  5013,  4934,  4931,\n",
       "        4865,  4787,  4687,  4650,  4508,  4416,  4386,  4101,  4064,\n",
       "        3942,  3908,  3887,  3818,  3781,  3674,  3471,  3464,  3456,\n",
       "        3432,  3418,  3411,  3325,  3273,  3137,  3103,  2993,  2977,\n",
       "        2964,  2961,  2936,  2907,  2885,  2829,  2653,  2635,  2597,\n",
       "        2580,  2538,  2463,  2414,  2407,  2387,  2354,  2346,  2329,\n",
       "        2290,  2228,  2202,  2176,  2174,  2105,  2062,  2050,  2036,\n",
       "        2009,  1848,  1831,  1797,  1639,  1506,  1471,  1455,  1424,\n",
       "        1409,  1173,  1151,  1111,  1086,  1055,   991,   914,   594,\n",
       "         401,   114], dtype=int64)"
      ]
     },
     "execution_count": 32,
     "metadata": {},
     "output_type": "execute_result"
    }
   ],
   "source": [
    "data[\"capital.gain\"].unique()       # This column is already cleaned"
   ]
  },
  {
   "cell_type": "markdown",
   "id": "41a09e29",
   "metadata": {},
   "source": [
    "### Tackling the capital.loss of dataset"
   ]
  },
  {
   "cell_type": "code",
   "execution_count": 33,
   "id": "fd21480f",
   "metadata": {},
   "outputs": [
    {
     "data": {
      "text/plain": [
       "array([4356, 3900, 3770, 3683, 3004, 2824, 2754, 2603, 2559, 2547, 2489,\n",
       "       2472, 2467, 2457, 2444, 2415, 2392, 2377, 2352, 2339, 2282, 2267,\n",
       "       2258, 2246, 2238, 2231, 2206, 2205, 2201, 2179, 2174, 2163, 2149,\n",
       "       2129, 2080, 2057, 2051, 2042, 2002, 2001, 1980, 1977, 1974, 1944,\n",
       "       1902, 1887, 1876, 1848, 1844, 1825, 1816, 1762, 1755, 1741, 1740,\n",
       "       1735, 1726, 1721, 1719, 1672, 1669, 1668, 1651, 1648, 1628, 1617,\n",
       "       1602, 1594, 1590, 1579, 1573, 1564, 1539, 1504, 1485, 1411, 1408,\n",
       "       1380, 1340, 1258, 1138, 1092,  974,  880,  810,  653,  625,  419,\n",
       "        323,  213,  155,    0], dtype=int64)"
      ]
     },
     "execution_count": 33,
     "metadata": {},
     "output_type": "execute_result"
    }
   ],
   "source": [
    "data[\"capital.loss\"].unique()        # This column is already cleaned"
   ]
  },
  {
   "cell_type": "markdown",
   "id": "916978b4",
   "metadata": {},
   "source": [
    "### Tackling the hours.per.week of dataset"
   ]
  },
  {
   "cell_type": "code",
   "execution_count": 35,
   "id": "2447d296",
   "metadata": {},
   "outputs": [
    {
     "data": {
      "text/plain": [
       "array([40, 18, 45, 20, 60, 35, 55, 76, 50, 42, 25, 32, 90, 48, 15, 70, 52,\n",
       "       72, 39,  6, 65, 12, 80, 67, 99, 30, 75, 26, 36, 10, 84, 38, 62, 44,\n",
       "        8, 28, 59,  5, 24, 57, 34, 37, 46, 56, 41, 98, 43, 63,  1, 47, 68,\n",
       "       54,  2, 16,  9,  3,  4, 33, 23, 22, 64, 51, 19, 58, 53, 96, 66, 21,\n",
       "        7, 13, 27, 11, 14, 77, 31, 78, 49, 17, 85, 87, 88, 73, 89, 97, 94,\n",
       "       29, 82, 86, 91, 81, 92, 61, 74, 95], dtype=int64)"
      ]
     },
     "execution_count": 35,
     "metadata": {},
     "output_type": "execute_result"
    }
   ],
   "source": [
    "data[\"hours.per.week\"].unique()     # This column is already cleaned"
   ]
  },
  {
   "cell_type": "markdown",
   "id": "7a452590",
   "metadata": {},
   "source": [
    "### Tackling the native.country of dataset"
   ]
  },
  {
   "cell_type": "code",
   "execution_count": 39,
   "id": "379369ab",
   "metadata": {},
   "outputs": [
    {
     "data": {
      "text/plain": [
       "array(['United-States', 'Unknown', 'Mexico', 'Greece', 'Vietnam', 'China',\n",
       "       'Taiwan', 'India', 'Philippines', 'Trinadad&Tobago', 'Canada',\n",
       "       'South', 'Holand-Netherlands', 'Puerto-Rico', 'Poland', 'Iran',\n",
       "       'England', 'Germany', 'Italy', 'Japan', 'Hong', 'Honduras', 'Cuba',\n",
       "       'Ireland', 'Cambodia', 'Peru', 'Nicaragua', 'Dominican-Republic',\n",
       "       'Haiti', 'El-Salvador', 'Hungary', 'Columbia', 'Guatemala',\n",
       "       'Jamaica', 'Ecuador', 'France', 'Yugoslavia', 'Scotland',\n",
       "       'Portugal', 'Laos', 'Thailand', 'Outlying-US(Guam-USVI-etc)'],\n",
       "      dtype=object)"
      ]
     },
     "execution_count": 39,
     "metadata": {},
     "output_type": "execute_result"
    }
   ],
   "source": [
    "data[\"native.country\"].unique()     # in this '?' is the uncleaned values"
   ]
  },
  {
   "cell_type": "code",
   "execution_count": 37,
   "id": "06aa3f9f",
   "metadata": {},
   "outputs": [
    {
     "data": {
      "text/plain": [
       "583"
      ]
     },
     "execution_count": 37,
     "metadata": {},
     "output_type": "execute_result"
    }
   ],
   "source": [
    "count = count_specified_values(data, 'native.country', ['?'])\n",
    "count"
   ]
  },
  {
   "cell_type": "code",
   "execution_count": 38,
   "id": "9f195a24",
   "metadata": {},
   "outputs": [],
   "source": [
    "data['native.country'] = data[\"native.country\"].replace('?','Unknown')"
   ]
  },
  {
   "cell_type": "markdown",
   "id": "a8df2c82",
   "metadata": {},
   "source": [
    "### Tackling the income of dataset"
   ]
  },
  {
   "cell_type": "code",
   "execution_count": 40,
   "id": "62877992",
   "metadata": {},
   "outputs": [
    {
     "data": {
      "text/plain": [
       "array(['<=50K', '>50K'], dtype=object)"
      ]
     },
     "execution_count": 40,
     "metadata": {},
     "output_type": "execute_result"
    }
   ],
   "source": [
    "data[\"income\"].unique()        # This column is already cleaned"
   ]
  },
  {
   "cell_type": "markdown",
   "id": "ea7b5eb4",
   "metadata": {},
   "source": [
    "# All the columns in the dataset are cleaned now"
   ]
  }
 ],
 "metadata": {
  "kernelspec": {
   "display_name": "Python 3 (ipykernel)",
   "language": "python",
   "name": "python3"
  },
  "language_info": {
   "codemirror_mode": {
    "name": "ipython",
    "version": 3
   },
   "file_extension": ".py",
   "mimetype": "text/x-python",
   "name": "python",
   "nbconvert_exporter": "python",
   "pygments_lexer": "ipython3",
   "version": "3.11.3"
  }
 },
 "nbformat": 4,
 "nbformat_minor": 5
}
