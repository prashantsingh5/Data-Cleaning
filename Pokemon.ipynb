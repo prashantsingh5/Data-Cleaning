{
 "cells": [
  {
   "cell_type": "markdown",
   "id": "8ad7968f",
   "metadata": {},
   "source": [
    "# Importing the necessary libraries"
   ]
  },
  {
   "cell_type": "code",
   "execution_count": 1,
   "id": "4316caf7",
   "metadata": {},
   "outputs": [],
   "source": [
    "import numpy as np\n",
    "import pandas as pd"
   ]
  },
  {
   "cell_type": "markdown",
   "id": "9c5f29e3",
   "metadata": {},
   "source": [
    "# Loading the Dataset"
   ]
  },
  {
   "cell_type": "code",
   "execution_count": 2,
   "id": "c0236bed",
   "metadata": {},
   "outputs": [],
   "source": [
    "data = pd.read_csv(\"pokemon_data.csv\")"
   ]
  },
  {
   "cell_type": "markdown",
   "id": "2eab8097",
   "metadata": {},
   "source": [
    "# Exploring the Dataset"
   ]
  },
  {
   "cell_type": "code",
   "execution_count": 4,
   "id": "b864cb4a",
   "metadata": {},
   "outputs": [
    {
     "data": {
      "text/html": [
       "<div>\n",
       "<style scoped>\n",
       "    .dataframe tbody tr th:only-of-type {\n",
       "        vertical-align: middle;\n",
       "    }\n",
       "\n",
       "    .dataframe tbody tr th {\n",
       "        vertical-align: top;\n",
       "    }\n",
       "\n",
       "    .dataframe thead th {\n",
       "        text-align: right;\n",
       "    }\n",
       "</style>\n",
       "<table border=\"1\" class=\"dataframe\">\n",
       "  <thead>\n",
       "    <tr style=\"text-align: right;\">\n",
       "      <th></th>\n",
       "      <th>dexnum</th>\n",
       "      <th>name</th>\n",
       "      <th>generation</th>\n",
       "      <th>type1</th>\n",
       "      <th>type2</th>\n",
       "      <th>species</th>\n",
       "      <th>height</th>\n",
       "      <th>weight</th>\n",
       "      <th>ability1</th>\n",
       "      <th>ability2</th>\n",
       "      <th>...</th>\n",
       "      <th>catch_rate</th>\n",
       "      <th>base_friendship</th>\n",
       "      <th>base_exp</th>\n",
       "      <th>growth_rate</th>\n",
       "      <th>egg_group1</th>\n",
       "      <th>egg_group2</th>\n",
       "      <th>percent_male</th>\n",
       "      <th>percent_female</th>\n",
       "      <th>egg_cycles</th>\n",
       "      <th>special_group</th>\n",
       "    </tr>\n",
       "  </thead>\n",
       "  <tbody>\n",
       "    <tr>\n",
       "      <th>0</th>\n",
       "      <td>1</td>\n",
       "      <td>Bulbasaur</td>\n",
       "      <td>1</td>\n",
       "      <td>Grass</td>\n",
       "      <td>Poison</td>\n",
       "      <td>Seed Pokémon</td>\n",
       "      <td>0.7</td>\n",
       "      <td>6.9</td>\n",
       "      <td>Overgrow</td>\n",
       "      <td>Chlorophyll</td>\n",
       "      <td>...</td>\n",
       "      <td>45</td>\n",
       "      <td>50</td>\n",
       "      <td>64</td>\n",
       "      <td>Medium Slow</td>\n",
       "      <td>Grass</td>\n",
       "      <td>Monster</td>\n",
       "      <td>87.5</td>\n",
       "      <td>12.5</td>\n",
       "      <td>20</td>\n",
       "      <td>Ordinary</td>\n",
       "    </tr>\n",
       "    <tr>\n",
       "      <th>1</th>\n",
       "      <td>2</td>\n",
       "      <td>Ivysaur</td>\n",
       "      <td>1</td>\n",
       "      <td>Grass</td>\n",
       "      <td>Poison</td>\n",
       "      <td>Seed Pokémon</td>\n",
       "      <td>1.0</td>\n",
       "      <td>13.0</td>\n",
       "      <td>Overgrow</td>\n",
       "      <td>Chlorophyll</td>\n",
       "      <td>...</td>\n",
       "      <td>45</td>\n",
       "      <td>50</td>\n",
       "      <td>142</td>\n",
       "      <td>Medium Slow</td>\n",
       "      <td>Grass</td>\n",
       "      <td>Monster</td>\n",
       "      <td>87.5</td>\n",
       "      <td>12.5</td>\n",
       "      <td>20</td>\n",
       "      <td>Ordinary</td>\n",
       "    </tr>\n",
       "    <tr>\n",
       "      <th>2</th>\n",
       "      <td>3</td>\n",
       "      <td>Venusaur</td>\n",
       "      <td>1</td>\n",
       "      <td>Grass</td>\n",
       "      <td>Poison</td>\n",
       "      <td>Seed Pokémon</td>\n",
       "      <td>2.0</td>\n",
       "      <td>100.0</td>\n",
       "      <td>Overgrow</td>\n",
       "      <td>Chlorophyll</td>\n",
       "      <td>...</td>\n",
       "      <td>45</td>\n",
       "      <td>50</td>\n",
       "      <td>236</td>\n",
       "      <td>Medium Slow</td>\n",
       "      <td>Grass</td>\n",
       "      <td>Monster</td>\n",
       "      <td>87.5</td>\n",
       "      <td>12.5</td>\n",
       "      <td>20</td>\n",
       "      <td>Ordinary</td>\n",
       "    </tr>\n",
       "    <tr>\n",
       "      <th>3</th>\n",
       "      <td>4</td>\n",
       "      <td>Charmander</td>\n",
       "      <td>1</td>\n",
       "      <td>Fire</td>\n",
       "      <td>NaN</td>\n",
       "      <td>Lizard Pokémon</td>\n",
       "      <td>0.6</td>\n",
       "      <td>8.5</td>\n",
       "      <td>Blaze</td>\n",
       "      <td>Solar Power</td>\n",
       "      <td>...</td>\n",
       "      <td>45</td>\n",
       "      <td>50</td>\n",
       "      <td>62</td>\n",
       "      <td>Medium Slow</td>\n",
       "      <td>Dragon</td>\n",
       "      <td>Monster</td>\n",
       "      <td>87.5</td>\n",
       "      <td>12.5</td>\n",
       "      <td>20</td>\n",
       "      <td>Ordinary</td>\n",
       "    </tr>\n",
       "    <tr>\n",
       "      <th>4</th>\n",
       "      <td>5</td>\n",
       "      <td>Charmeleon</td>\n",
       "      <td>1</td>\n",
       "      <td>Fire</td>\n",
       "      <td>NaN</td>\n",
       "      <td>Flame Pokémon</td>\n",
       "      <td>1.1</td>\n",
       "      <td>19.0</td>\n",
       "      <td>Blaze</td>\n",
       "      <td>Solar Power</td>\n",
       "      <td>...</td>\n",
       "      <td>45</td>\n",
       "      <td>50</td>\n",
       "      <td>142</td>\n",
       "      <td>Medium Slow</td>\n",
       "      <td>Dragon</td>\n",
       "      <td>Monster</td>\n",
       "      <td>87.5</td>\n",
       "      <td>12.5</td>\n",
       "      <td>20</td>\n",
       "      <td>Ordinary</td>\n",
       "    </tr>\n",
       "  </tbody>\n",
       "</table>\n",
       "<p>5 rows × 29 columns</p>\n",
       "</div>"
      ],
      "text/plain": [
       "   dexnum        name  generation  type1   type2         species  height  \\\n",
       "0       1   Bulbasaur           1  Grass  Poison    Seed Pokémon     0.7   \n",
       "1       2     Ivysaur           1  Grass  Poison    Seed Pokémon     1.0   \n",
       "2       3    Venusaur           1  Grass  Poison    Seed Pokémon     2.0   \n",
       "3       4  Charmander           1   Fire     NaN  Lizard Pokémon     0.6   \n",
       "4       5  Charmeleon           1   Fire     NaN   Flame Pokémon     1.1   \n",
       "\n",
       "   weight  ability1     ability2  ... catch_rate  base_friendship  base_exp  \\\n",
       "0     6.9  Overgrow  Chlorophyll  ...         45               50        64   \n",
       "1    13.0  Overgrow  Chlorophyll  ...         45               50       142   \n",
       "2   100.0  Overgrow  Chlorophyll  ...         45               50       236   \n",
       "3     8.5     Blaze  Solar Power  ...         45               50        62   \n",
       "4    19.0     Blaze  Solar Power  ...         45               50       142   \n",
       "\n",
       "   growth_rate  egg_group1  egg_group2  percent_male  percent_female  \\\n",
       "0  Medium Slow      Grass      Monster          87.5            12.5   \n",
       "1  Medium Slow      Grass      Monster          87.5            12.5   \n",
       "2  Medium Slow      Grass      Monster          87.5            12.5   \n",
       "3  Medium Slow     Dragon      Monster          87.5            12.5   \n",
       "4  Medium Slow     Dragon      Monster          87.5            12.5   \n",
       "\n",
       "  egg_cycles  special_group  \n",
       "0         20       Ordinary  \n",
       "1         20       Ordinary  \n",
       "2         20       Ordinary  \n",
       "3         20       Ordinary  \n",
       "4         20       Ordinary  \n",
       "\n",
       "[5 rows x 29 columns]"
      ]
     },
     "execution_count": 4,
     "metadata": {},
     "output_type": "execute_result"
    }
   ],
   "source": [
    "data.head()"
   ]
  },
  {
   "cell_type": "code",
   "execution_count": 7,
   "id": "c0d301ed",
   "metadata": {},
   "outputs": [
    {
     "data": {
      "text/plain": [
       "(1025, 29)"
      ]
     },
     "execution_count": 7,
     "metadata": {},
     "output_type": "execute_result"
    }
   ],
   "source": [
    "data.shape"
   ]
  },
  {
   "cell_type": "code",
   "execution_count": 8,
   "id": "89955e4e",
   "metadata": {},
   "outputs": [
    {
     "data": {
      "text/plain": [
       "Index(['dexnum', 'name', 'generation', 'type1', 'type2', 'species', 'height',\n",
       "       'weight', 'ability1', 'ability2', 'hidden_ability', 'hp', 'attack',\n",
       "       'defense', 'sp_atk', 'sp_def', 'speed', 'total', 'ev_yield',\n",
       "       'catch_rate', 'base_friendship', 'base_exp', 'growth_rate',\n",
       "       'egg_group1', 'egg_group2', 'percent_male', 'percent_female',\n",
       "       'egg_cycles', 'special_group'],\n",
       "      dtype='object')"
      ]
     },
     "execution_count": 8,
     "metadata": {},
     "output_type": "execute_result"
    }
   ],
   "source": [
    "data.columns"
   ]
  },
  {
   "cell_type": "code",
   "execution_count": 9,
   "id": "df09309f",
   "metadata": {},
   "outputs": [
    {
     "name": "stdout",
     "output_type": "stream",
     "text": [
      "<class 'pandas.core.frame.DataFrame'>\n",
      "RangeIndex: 1025 entries, 0 to 1024\n",
      "Data columns (total 29 columns):\n",
      " #   Column           Non-Null Count  Dtype  \n",
      "---  ------           --------------  -----  \n",
      " 0   dexnum           1025 non-null   int64  \n",
      " 1   name             1025 non-null   object \n",
      " 2   generation       1025 non-null   int64  \n",
      " 3   type1            1025 non-null   object \n",
      " 4   type2            526 non-null    object \n",
      " 5   species          1025 non-null   object \n",
      " 6   height           1025 non-null   float64\n",
      " 7   weight           1025 non-null   float64\n",
      " 8   ability1         1025 non-null   object \n",
      " 9   ability2         858 non-null    object \n",
      " 10  hidden_ability   530 non-null    object \n",
      " 11  hp               1025 non-null   int64  \n",
      " 12  attack           1025 non-null   int64  \n",
      " 13  defense          1025 non-null   int64  \n",
      " 14  sp_atk           1025 non-null   int64  \n",
      " 15  sp_def           1025 non-null   int64  \n",
      " 16  speed            1025 non-null   int64  \n",
      " 17  total            1025 non-null   int64  \n",
      " 18  ev_yield         1025 non-null   object \n",
      " 19  catch_rate       1025 non-null   int64  \n",
      " 20  base_friendship  1025 non-null   object \n",
      " 21  base_exp         1025 non-null   object \n",
      " 22  growth_rate      1025 non-null   object \n",
      " 23  egg_group1       1025 non-null   object \n",
      " 24  egg_group2       279 non-null    object \n",
      " 25  percent_male     870 non-null    float64\n",
      " 26  percent_female   870 non-null    float64\n",
      " 27  egg_cycles       1025 non-null   object \n",
      " 28  special_group    1025 non-null   object \n",
      "dtypes: float64(4), int64(10), object(15)\n",
      "memory usage: 232.4+ KB\n"
     ]
    }
   ],
   "source": [
    "data.info()"
   ]
  },
  {
   "cell_type": "code",
   "execution_count": 33,
   "id": "af1d2b60",
   "metadata": {},
   "outputs": [
    {
     "name": "stdout",
     "output_type": "stream",
     "text": [
      "Number unique values in generation =  9\n",
      "Number unique values in type1 =  18\n",
      "Number unique values in type2 =  19\n",
      "Number unique values in species =  715\n",
      "unique values in ability1 =  223\n",
      "unique values in ability2 =  170\n",
      "unique values in hidden_ability =  126\n",
      "unique values in ev_yield =  48\n",
      "unique values in base_friendship =  9\n",
      "unique values in base_exp =  181\n",
      "unique values in growth_rate =  6\n",
      "unique values in egg_group1 =  26\n",
      "unique values in egg_group2 =  12\n",
      "unique values in egg_cycles =  12\n",
      "unique values in special_group =  8\n"
     ]
    }
   ],
   "source": [
    "print(\"Number unique values in generation = \", len(data[\"generation\"].unique()))\n",
    "print(\"Number unique values in type1 = \", len(data[\"type1\"].unique()))\n",
    "print(\"Number unique values in type2 = \", len(data[\"type2\"].unique()))\n",
    "print(\"Number unique values in species = \", len(data[\"species\"].unique()))\n",
    "print(\"Number unique values in ability1 = \", len(data[\"ability1\"].unique()))\n",
    "print(\"Number unique values in ability2 = \", len(data[\"ability2\"].unique()))\n",
    "print(\"Number unique values in hidden_ability = \", len(data[\"hidden_ability\"].unique()))\n",
    "print(\"Number unique values in ev_yield = \", len(data[\"ev_yield\"].unique()))\n",
    "print(\"Number unique values in base_friendship = \", len(data[\"base_friendship\"].unique()))\n",
    "print(\"Number unique values in base_exp = \", len(data[\"base_exp\"].unique()))\n",
    "print(\"Number unique values in growth_rate = \", len(data[\"growth_rate\"].unique()))\n",
    "print(\"Number unique values in egg_group1 = \", len(data[\"egg_group1\"].unique()))\n",
    "print(\"Number unique values in egg_group2 = \", len(data[\"egg_group2\"].unique()))\n",
    "print(\"Number unique values in egg_cycles = \", len(data[\"egg_cycles\"].unique()))\n",
    "print(\"Number unique values in special_group = \", len(data[\"special_group\"].unique()))"
   ]
  },
  {
   "cell_type": "code",
   "execution_count": 16,
   "id": "c496c503",
   "metadata": {},
   "outputs": [
    {
     "data": {
      "text/html": [
       "<div>\n",
       "<style scoped>\n",
       "    .dataframe tbody tr th:only-of-type {\n",
       "        vertical-align: middle;\n",
       "    }\n",
       "\n",
       "    .dataframe tbody tr th {\n",
       "        vertical-align: top;\n",
       "    }\n",
       "\n",
       "    .dataframe thead th {\n",
       "        text-align: right;\n",
       "    }\n",
       "</style>\n",
       "<table border=\"1\" class=\"dataframe\">\n",
       "  <thead>\n",
       "    <tr style=\"text-align: right;\">\n",
       "      <th></th>\n",
       "      <th>dexnum</th>\n",
       "      <th>name</th>\n",
       "      <th>generation</th>\n",
       "      <th>type1</th>\n",
       "      <th>type2</th>\n",
       "      <th>species</th>\n",
       "      <th>height</th>\n",
       "      <th>weight</th>\n",
       "      <th>ability1</th>\n",
       "      <th>ability2</th>\n",
       "      <th>...</th>\n",
       "      <th>catch_rate</th>\n",
       "      <th>base_friendship</th>\n",
       "      <th>base_exp</th>\n",
       "      <th>growth_rate</th>\n",
       "      <th>egg_group1</th>\n",
       "      <th>egg_group2</th>\n",
       "      <th>percent_male</th>\n",
       "      <th>percent_female</th>\n",
       "      <th>egg_cycles</th>\n",
       "      <th>special_group</th>\n",
       "    </tr>\n",
       "  </thead>\n",
       "  <tbody>\n",
       "  </tbody>\n",
       "</table>\n",
       "<p>0 rows × 29 columns</p>\n",
       "</div>"
      ],
      "text/plain": [
       "Empty DataFrame\n",
       "Columns: [dexnum, name, generation, type1, type2, species, height, weight, ability1, ability2, hidden_ability, hp, attack, defense, sp_atk, sp_def, speed, total, ev_yield, catch_rate, base_friendship, base_exp, growth_rate, egg_group1, egg_group2, percent_male, percent_female, egg_cycles, special_group]\n",
       "Index: []\n",
       "\n",
       "[0 rows x 29 columns]"
      ]
     },
     "execution_count": 16,
     "metadata": {},
     "output_type": "execute_result"
    }
   ],
   "source": [
    "data[data[\"dexnum\"].isnull()]"
   ]
  },
  {
   "cell_type": "markdown",
   "id": "106639e8",
   "metadata": {},
   "source": [
    "# Checking whether the nan values is present or not"
   ]
  },
  {
   "cell_type": "code",
   "execution_count": 35,
   "id": "dc466f0f",
   "metadata": {},
   "outputs": [
    {
     "name": "stdout",
     "output_type": "stream",
     "text": [
      "Number of nan values present in dexnum 0\n",
      "Number of nan values present in name 0\n",
      "Number of nan values present in generation 0\n",
      "Number of nan values present in type1 0\n",
      "Number of nan values present in type2 499\n",
      "Number of nan values present in species 0\n",
      "Number of nan values present in height 0\n",
      "Number of nan values present in weight 0\n",
      "Number of nan values present in ability1 0\n",
      "Number of nan values present in ability2 167\n",
      "Number of nan values present in hidden_ability 495\n",
      "Number of nan values present in hp 0\n",
      "Number of nan values present in attack 0\n",
      "Number of nan values present in defense 0\n",
      "Number of nan values present in sp_atk 0\n",
      "Number of nan values present in sp_def 0\n",
      "Number of nan values present in speed 0\n",
      "Number of nan values present in total 0\n",
      "Number of nan values present in ev_yield 0\n",
      "Number of nan values present in catch_rate 0\n",
      "Number of nan values present in base_friendship 0\n",
      "Number of nan values present in base_exp 0\n",
      "Number of nan values present in growth_rate 0\n",
      "Number of nan values present in egg_group1 0\n",
      "Number of nan values present in egg_group2 746\n",
      "Number of nan values present in percent_male 155\n",
      "Number of nan values present in percent_female 155\n",
      "Number of nan values present in egg_cycles 0\n",
      "Number of nan values present in special_group 0\n"
     ]
    }
   ],
   "source": [
    "print(\"Number of nan values present in dexnum\",len(data[data[\"dexnum\"].isnull()]))      # This column has 0 nan rows\n",
    "print(\"Number of nan values present in name\",len(data[data[\"name\"].isnull()]))        # This column has 0 nan rows\n",
    "print(\"Number of nan values present in generation\",len(data[data[\"generation\"].isnull()]))      # This column has 0 nan rows\n",
    "print(\"Number of nan values present in type1\",len(data[data[\"type1\"].isnull()]))      # This column has 0 nan rows\n",
    "print(\"Number of nan values present in type2\",len(data[data[\"type2\"].isnull()]))        # This column has 499 nan rows\n",
    "print(\"Number of nan values present in species\",len(data[data[\"species\"].isnull()]))      # This column has 0 nan rows\n",
    "print(\"Number of nan values present in height\",len(data[data[\"height\"].isnull()]))      # This column has 0 nan rows\n",
    "print(\"Number of nan values present in weight\",len(data[data[\"weight\"].isnull()]))      # This column has 0 nan rows\n",
    "print(\"Number of nan values present in ability1\",len(data[data[\"ability1\"].isnull()]))        # This column has 0 nan rows\n",
    "print(\"Number of nan values present in ability2\",len(data[data[\"ability2\"].isnull()]))     # This column has 167 nan rows\n",
    "print(\"Number of nan values present in hidden_ability\",len(data[data[\"hidden_ability\"].isnull()]))      # This column has 495 nan rows\n",
    "print(\"Number of nan values present in hp\",len(data[data[\"hp\"].isnull()]))         # This column has 0 nan rows\n",
    "print(\"Number of nan values present in attack\",len(data[data[\"attack\"].isnull()]))        # This column has 0 nan rows\n",
    "print(\"Number of nan values present in defense\",len(data[data[\"defense\"].isnull()]))        # This column has 0 nan rows\n",
    "print(\"Number of nan values present in sp_atk\",len(data[data[\"sp_atk\"].isnull()]))        # This column has 0 nan rows\n",
    "print(\"Number of nan values present in sp_def\",len(data[data[\"sp_def\"].isnull()]))        # This column has 0 nan rows\n",
    "print(\"Number of nan values present in speed\",len(data[data[\"speed\"].isnull()]))        # This column has 0 nan rows\n",
    "print(\"Number of nan values present in total\",len(data[data[\"total\"].isnull()]))         # This column has 0 nan rows\n",
    "print(\"Number of nan values present in ev_yield\",len(data[data[\"ev_yield\"].isnull()]))        # This column has 0 nan rows\n",
    "print(\"Number of nan values present in catch_rate\",len(data[data[\"catch_rate\"].isnull()]))       # This column has 0 nan rows \n",
    "print(\"Number of nan values present in base_friendship\",len(data[data[\"base_friendship\"].isnull()]))        # This column has 0 nan rows\n",
    "print(\"Number of nan values present in base_exp\",len(data[data[\"base_exp\"].isnull()]))         # This column has 0 nan rows\n",
    "print(\"Number of nan values present in growth_rate\",len(data[data[\"growth_rate\"].isnull()]))        # This column has 0 nan rows\n",
    "print(\"Number of nan values present in egg_group1\",len(data[data[\"egg_group1\"].isnull()]))        # This column has 0 nan rows\n",
    "print(\"Number of nan values present in egg_group2\",len(data[data[\"egg_group2\"].isnull()]))      # This column has 746 nan rows\n",
    "print(\"Number of nan values present in percent_male\",len(data[data[\"percent_male\"].isnull()]))       # This column has 155 nan rows\n",
    "print(\"Number of nan values present in percent_female\",len(data[data[\"percent_female\"].isnull()]))       # This column has 155 nan rows\n",
    "print(\"Number of nan values present in egg_cycles\",len(data[data[\"egg_cycles\"].isnull()]))        # This column has 0 nan rows\n",
    "print(\"Number of nan values present in special_group\",len(data[data[\"special_group\"].isnull()]))        # This column has 0 nan rows"
   ]
  },
  {
   "cell_type": "code",
   "execution_count": 36,
   "id": "3921ee48",
   "metadata": {},
   "outputs": [
    {
     "data": {
      "text/plain": [
       "count    870.000000\n",
       "mean      54.928161\n",
       "std       20.308375\n",
       "min        0.000000\n",
       "25%       50.000000\n",
       "50%       50.000000\n",
       "75%       50.000000\n",
       "max      100.000000\n",
       "Name: percent_male, dtype: float64"
      ]
     },
     "execution_count": 36,
     "metadata": {},
     "output_type": "execute_result"
    }
   ],
   "source": [
    "data[\"percent_male\"].describe()"
   ]
  },
  {
   "cell_type": "code",
   "execution_count": 37,
   "id": "e1e17c61",
   "metadata": {},
   "outputs": [],
   "source": [
    "data[\"percent_male\"] = data[\"percent_male\"].fillna(method='bfill')\n",
    "data[\"percent_female\"] = data[\"percent_female\"].fillna(method='bfill')\n",
    "data[\"percent_male\"] = data[\"percent_male\"].fillna(method='ffill')\n",
    "data[\"percent_female\"] = data[\"percent_female\"].fillna(method='ffill')"
   ]
  },
  {
   "cell_type": "code",
   "execution_count": 48,
   "id": "8fa8452d",
   "metadata": {},
   "outputs": [
    {
     "name": "stdout",
     "output_type": "stream",
     "text": [
      "Number of nan values present in hidden_ability 0\n"
     ]
    }
   ],
   "source": [
    "print(\"Number of nan values present in hidden_ability\",len(data[data[\"hidden_ability\"].isnull()]))"
   ]
  },
  {
   "cell_type": "code",
   "execution_count": 44,
   "id": "0832641e",
   "metadata": {},
   "outputs": [],
   "source": [
    "# The column egg_group2 contain 746 nan values and it is recommended that the whole column is removed\n",
    "data = data.drop('egg_group2',axis = 1)\n",
    "# The column type2 contain 499 nan values and it is recommended that the whole column is removed\n",
    "data = data.drop('type2',axis = 1)\n",
    "# The column ability2 contain 167 nan values and it is recommended that the whole column is removed\n",
    "data = data.drop('ability2',axis = 1)"
   ]
  },
  {
   "cell_type": "code",
   "execution_count": 47,
   "id": "0f09f338",
   "metadata": {},
   "outputs": [],
   "source": [
    "# The column hidden_ability contains 495 nan values so we are going to replace these nan values with unknown\n",
    "data[\"hidden_ability\"] = data[\"hidden_ability\"].replace(np.nan, 'unknown')"
   ]
  },
  {
   "cell_type": "code",
   "execution_count": 50,
   "id": "5032f71d",
   "metadata": {},
   "outputs": [
    {
     "name": "stdout",
     "output_type": "stream",
     "text": [
      "Number of nan values present in dexnum 0\n",
      "Number of nan values present in name 0\n",
      "Number of nan values present in generation 0\n",
      "Number of nan values present in type1 0\n",
      "Number of nan values present in species 0\n",
      "Number of nan values present in height 0\n",
      "Number of nan values present in weight 0\n",
      "Number of nan values present in ability1 0\n",
      "Number of nan values present in hidden_ability 0\n",
      "Number of nan values present in hp 0\n",
      "Number of nan values present in attack 0\n",
      "Number of nan values present in defense 0\n",
      "Number of nan values present in sp_atk 0\n",
      "Number of nan values present in sp_def 0\n",
      "Number of nan values present in speed 0\n",
      "Number of nan values present in total 0\n",
      "Number of nan values present in ev_yield 0\n",
      "Number of nan values present in catch_rate 0\n",
      "Number of nan values present in base_friendship 0\n",
      "Number of nan values present in base_exp 0\n",
      "Number of nan values present in growth_rate 0\n",
      "Number of nan values present in egg_group1 0\n",
      "Number of nan values present in percent_male 0\n",
      "Number of nan values present in percent_female 0\n",
      "Number of nan values present in egg_cycles 0\n",
      "Number of nan values present in special_group 0\n"
     ]
    }
   ],
   "source": [
    "# All the nan values are tackled\n",
    "print(\"Number of nan values present in dexnum\",len(data[data[\"dexnum\"].isnull()]))\n",
    "print(\"Number of nan values present in name\",len(data[data[\"name\"].isnull()]))\n",
    "print(\"Number of nan values present in generation\",len(data[data[\"generation\"].isnull()]))\n",
    "print(\"Number of nan values present in type1\",len(data[data[\"type1\"].isnull()]))\n",
    "print(\"Number of nan values present in species\",len(data[data[\"species\"].isnull()]))\n",
    "print(\"Number of nan values present in height\",len(data[data[\"height\"].isnull()]))\n",
    "print(\"Number of nan values present in weight\",len(data[data[\"weight\"].isnull()]))\n",
    "print(\"Number of nan values present in ability1\",len(data[data[\"ability1\"].isnull()]))\n",
    "print(\"Number of nan values present in hidden_ability\",len(data[data[\"hidden_ability\"].isnull()]))\n",
    "print(\"Number of nan values present in hp\",len(data[data[\"hp\"].isnull()]))\n",
    "print(\"Number of nan values present in attack\",len(data[data[\"attack\"].isnull()]))\n",
    "print(\"Number of nan values present in defense\",len(data[data[\"defense\"].isnull()]))\n",
    "print(\"Number of nan values present in sp_atk\",len(data[data[\"sp_atk\"].isnull()]))\n",
    "print(\"Number of nan values present in sp_def\",len(data[data[\"sp_def\"].isnull()]))\n",
    "print(\"Number of nan values present in speed\",len(data[data[\"speed\"].isnull()]))\n",
    "print(\"Number of nan values present in total\",len(data[data[\"total\"].isnull()]))\n",
    "print(\"Number of nan values present in ev_yield\",len(data[data[\"ev_yield\"].isnull()]))\n",
    "print(\"Number of nan values present in catch_rate\",len(data[data[\"catch_rate\"].isnull()]))\n",
    "print(\"Number of nan values present in base_friendship\",len(data[data[\"base_friendship\"].isnull()]))\n",
    "print(\"Number of nan values present in base_exp\",len(data[data[\"base_exp\"].isnull()]))\n",
    "print(\"Number of nan values present in growth_rate\",len(data[data[\"growth_rate\"].isnull()]))\n",
    "print(\"Number of nan values present in egg_group1\",len(data[data[\"egg_group1\"].isnull()]))\n",
    "print(\"Number of nan values present in percent_male\",len(data[data[\"percent_male\"].isnull()]))\n",
    "print(\"Number of nan values present in percent_female\",len(data[data[\"percent_female\"].isnull()]))\n",
    "print(\"Number of nan values present in egg_cycles\",len(data[data[\"egg_cycles\"].isnull()]))\n",
    "print(\"Number of nan values present in special_group\",len(data[data[\"special_group\"].isnull()]))"
   ]
  },
  {
   "cell_type": "markdown",
   "id": "fa8829de",
   "metadata": {},
   "source": [
    "# Data is cleaned we can further Standardize(Normalize) our data when we need to train our model"
   ]
  }
 ],
 "metadata": {
  "kernelspec": {
   "display_name": "Python 3 (ipykernel)",
   "language": "python",
   "name": "python3"
  },
  "language_info": {
   "codemirror_mode": {
    "name": "ipython",
    "version": 3
   },
   "file_extension": ".py",
   "mimetype": "text/x-python",
   "name": "python",
   "nbconvert_exporter": "python",
   "pygments_lexer": "ipython3",
   "version": "3.11.3"
  }
 },
 "nbformat": 4,
 "nbformat_minor": 5
}
